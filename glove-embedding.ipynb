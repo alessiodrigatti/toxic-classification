{
 "cells": [
  {
   "cell_type": "code",
   "execution_count": 1,
   "outputs": [],
   "source": [
    "import pandas as pd\n",
    "import gensim.downloader as api\n",
    "import numpy as np\n",
    "\n",
    "# Load the GloVe model\n",
    "glove_model = api.load(\"glove-wiki-gigaword-300\")"
   ],
   "metadata": {
    "collapsed": false
   }
  },
  {
   "cell_type": "code",
   "execution_count": 3,
   "metadata": {
    "collapsed": true
   },
   "outputs": [
    {
     "data": {
      "text/plain": "                                        comment_text  toxic  sentence_lengths\n0         fine! still want publish rubbish, go right      1                 7\n1  warning please delete edit legitimate talk pag...      0                16\n2                                 10 september 1910,      0                 3\n3                            mother sucker!this bull      1                 3\n4  shortened term rather cantana, would best way ...      0                57",
      "text/html": "<div>\n<style scoped>\n    .dataframe tbody tr th:only-of-type {\n        vertical-align: middle;\n    }\n\n    .dataframe tbody tr th {\n        vertical-align: top;\n    }\n\n    .dataframe thead th {\n        text-align: right;\n    }\n</style>\n<table border=\"1\" class=\"dataframe\">\n  <thead>\n    <tr style=\"text-align: right;\">\n      <th></th>\n      <th>comment_text</th>\n      <th>toxic</th>\n      <th>sentence_lengths</th>\n    </tr>\n  </thead>\n  <tbody>\n    <tr>\n      <th>0</th>\n      <td>fine! still want publish rubbish, go right</td>\n      <td>1</td>\n      <td>7</td>\n    </tr>\n    <tr>\n      <th>1</th>\n      <td>warning please delete edit legitimate talk pag...</td>\n      <td>0</td>\n      <td>16</td>\n    </tr>\n    <tr>\n      <th>2</th>\n      <td>10 september 1910,</td>\n      <td>0</td>\n      <td>3</td>\n    </tr>\n    <tr>\n      <th>3</th>\n      <td>mother sucker!this bull</td>\n      <td>1</td>\n      <td>3</td>\n    </tr>\n    <tr>\n      <th>4</th>\n      <td>shortened term rather cantana, would best way ...</td>\n      <td>0</td>\n      <td>57</td>\n    </tr>\n  </tbody>\n</table>\n</div>"
     },
     "execution_count": 3,
     "metadata": {},
     "output_type": "execute_result"
    }
   ],
   "source": [
    "# Load your text data into a pandas dataframe\n",
    "df = pd.read_json('data_pp_sample2.json', orient=\"columns\")\n",
    "\n",
    "df.drop(df[df.comment_text.str.len() == 0].index, inplace=True)\n",
    "df.reset_index(drop=True, inplace=True)\n",
    "\n",
    "df.head()"
   ]
  },
  {
   "cell_type": "code",
   "execution_count": 14,
   "outputs": [],
   "source": [
    "# Define a function to apply GloVe to each row of the dataframe\n",
    "def get_embedding(row):\n",
    "    embedding_matrix = []\n",
    "    text = row['comment_text']\n",
    "    for word in text.split():\n",
    "        if word in glove_model.key_to_index:\n",
    "            embedding_matrix.append(glove_model[word])\n",
    "        else:\n",
    "            embedding_matrix.append(np.zeros(glove_model.vector_size))\n",
    "    return np.array(embedding_matrix)"
   ],
   "metadata": {
    "collapsed": false
   }
  },
  {
   "cell_type": "code",
   "execution_count": 15,
   "outputs": [],
   "source": [
    "# Apply the function to each row of the dataframe and create a new column for the embeddings\n",
    "X_train = df.apply(get_embedding, axis=1)"
   ],
   "metadata": {
    "collapsed": false
   }
  },
  {
   "cell_type": "code",
   "execution_count": 30,
   "outputs": [],
   "source": [
    "X_train = []"
   ],
   "metadata": {
    "collapsed": false
   }
  },
  {
   "cell_type": "code",
   "execution_count": 33,
   "outputs": [],
   "source": [
    "X_train.append(np.asarray(glove_model[\"hello\", \"warning\"]).mean(axis=0))\n",
    "X_train.append(np.asarray(glove_model[\"hello\", \"still\", \"fun\"]).mean(axis=0))"
   ],
   "metadata": {
    "collapsed": false
   }
  },
  {
   "cell_type": "code",
   "execution_count": 151,
   "outputs": [],
   "source": [
    "import numpy as np\n",
    "np.seterr(invalid='ignore')\n",
    "\n",
    "def get_embedding(series, model, tokenizer):\n",
    "    embedding_matrix = []\n",
    "\n",
    "    for text in series.to_list():\n",
    "        text_vec = np.zeros(model.vector_size)\n",
    "        number_of_vectors = 0\n",
    "\n",
    "        tokens = tokenizer.tokenize(text)\n",
    "\n",
    "        for token in tokens:\n",
    "            number_of_vectors += 1\n",
    "\n",
    "            if token in glove_model.key_to_index:\n",
    "                text_vec = text_vec + model[token]\n",
    "\n",
    "        embedding_matrix.append( text_vec / number_of_vectors)\n",
    "\n",
    "    return np.asmatrix(embedding_matrix)"
   ],
   "metadata": {
    "collapsed": false
   }
  },
  {
   "cell_type": "code",
   "execution_count": 152,
   "outputs": [],
   "source": [
    "from nltk.tokenize import RegexpTokenizer\n",
    "tokenizer = RegexpTokenizer(r\"[a-zA-Z0-9]+\")\n",
    "\n",
    "em_matrix = get_embedding(df.comment_text, glove_model, tokenizer)"
   ],
   "metadata": {
    "collapsed": false
   }
  },
  {
   "cell_type": "code",
   "execution_count": 49,
   "outputs": [
    {
     "data": {
      "text/plain": "['fine! ', 'still ', 'want ', 'publish ', 'rubbish, ', 'go ']"
     },
     "execution_count": 49,
     "metadata": {},
     "output_type": "execute_result"
    }
   ],
   "source": [
    "tokenizer.tokenize(text[0])"
   ],
   "metadata": {
    "collapsed": false
   }
  },
  {
   "cell_type": "code",
   "execution_count": 51,
   "outputs": [
    {
     "data": {
      "text/plain": "True"
     },
     "execution_count": 51,
     "metadata": {},
     "output_type": "execute_result"
    }
   ],
   "source": [
    "\"9\" in glove_model.key_to_index"
   ],
   "metadata": {
    "collapsed": false
   }
  },
  {
   "cell_type": "code",
   "execution_count": 92,
   "outputs": [
    {
     "data": {
      "text/plain": "array([ 0.03086001, -0.53585002,  0.0036075 , -0.11850998, -1.72125995,\n        0.028205  , -1.04016998, -0.15375999,  0.43459851, -1.56383002,\n        0.70082501,  0.400124  ,  0.56563   ,  0.09395   ,  0.85901999,\n        0.36248   , -0.23602   ,  0.76857999,  0.32974198,  0.401072  ,\n        1.16997999,  0.07532001, -0.41905799,  0.061913  , -0.62434209,\n        0.13373571,  0.31110699,  0.256332  ,  0.12481001, -0.129158  ,\n       -0.75257003, -0.37013002, -0.29569099,  0.31860171, -0.80599999,\n       -0.44206899, -0.78035999, -1.22933   ,  0.06736   ,  0.31304701,\n       -0.41414199,  0.5811    , -0.48909999,  0.59927998, -0.53856   ,\n        0.26812999,  0.62746099, -0.75903001, -0.42718401, -0.51244998,\n       -0.4069    , -0.102494  ,  0.51364002,  0.40005001, -0.86346   ,\n        0.260353  , -0.04900001,  0.46268   ,  0.56632   ,  0.08873001,\n        0.223868  ,  0.28905   ,  0.23591998, -0.24141   , -0.04814002,\n        0.58617299,  0.54143701, -0.66481002, -0.083445  ,  0.11934999,\n        0.20476998,  0.39157001, -0.04619   , -0.25047199,  0.413828  ,\n       -0.24375599,  0.486     ,  0.136235  , -0.43214099,  0.07271999,\n        0.06272998,  0.19658999, -0.62992999,  0.28839999,  0.30625   ,\n       -0.11809999, -0.46603002,  0.49389   ,  0.125448  , -0.80953   ,\n        0.120042  , -0.0438    , -0.61833999, -0.75322999, -0.172482  ,\n        0.94597498, -0.63929   , -0.171098  ,  0.39761999, -0.08021   ,\n        0.46023   , -0.499028  , -0.06134   ,  0.97203001, -0.35364501,\n       -0.38504001, -0.36740001, -0.70364998,  0.36519   ,  0.53837001,\n        0.0949033 ,  0.27474999,  0.21531399,  0.387599  ,  0.81202996,\n        0.157842  ,  0.04480001,  0.63198002,  0.72697997, -0.65158799,\n       -0.45339699, -0.46135001,  0.43136999,  0.53562099, -0.08652002,\n       -0.19024001,  0.115997  , -0.388794  ,  0.09130999, -0.03972   ,\n       -0.011544  ,  0.01177001, -0.04514998, -0.14374998, -0.33729   ,\n        0.11627   ,  0.052007  ,  0.0121    ,  0.84653002, -0.02493   ,\n        0.109664  ,  0.62978001, -0.06631999,  0.237437  , -0.75824198,\n       -0.26196599,  0.161553  ,  0.22996   ,  1.02075002, -0.28976998,\n       -0.45753998, -0.202778  ,  0.57525998,  0.9061    ,  0.2645336 ,\n        0.20369701,  0.163323  , -0.118267  , -0.49556299,  0.26029999,\n        0.23948099, -0.08223   ,  0.02559   , -0.42794997, -0.79308003,\n        0.27993099, -0.166444  ,  0.38396001,  0.44625001,  0.21739201,\n       -0.281013  , -0.002811  , -0.13710001,  0.0705836 ,  0.31432585,\n       -0.35857998,  0.68241   ,  0.114591  ,  0.302494  , -0.27332499,\n       -0.05845001, -0.80491   ,  0.74281999, -0.07530601, -0.71844   ,\n       -0.62241001,  0.04141998,  0.41914999,  0.39429101, -0.61233   ,\n       -0.2751    , -0.17742002, -0.36627001,  0.27551   ,  0.38637003,\n       -0.13027   ,  0.092174  , -0.69766   ,  0.00628999, -0.70210601,\n        1.12816299,  0.76308   ,  0.64231497,  0.040011  , -0.26887998,\n       -0.24632999, -0.230433  , -0.03758001, -0.29215999, -0.38257002,\n       -0.539551  , -0.176436  , -0.188329  , -0.2840907 ,  0.00399   ,\n       -0.44108999, -0.19732   , -0.16746001, -0.1695656 ,  0.19780001,\n        1.11184001,  0.263457  ,  0.108728  , -0.089974  ,  0.72970998,\n        0.081156  ,  0.46966001,  0.024537  ,  0.45085999, -0.36595999,\n        0.36094996,  0.07522002, -1.09354001, -0.97517002, -0.35505001,\n       -0.69639   ,  0.07805002, -0.58129001,  0.969794  , -0.52986   ,\n       -0.17544049,  0.256025  , -0.74836999, -0.01380998,  0.59693698,\n       -0.24755299, -0.48601002, -1.27711001,  0.71504003,  0.36075   ,\n        0.54923097, -0.02884001, -0.35503999,  0.67624   ,  0.05251999,\n        0.18081699,  0.50675   , -0.0720293 ,  0.2143573 , -0.22299499,\n       -0.31173999, -1.04724997,  0.40156999,  0.281757  , -0.51673   ,\n       -0.133312  , -0.80986001, -0.87077999,  0.25968999,  0.36520401,\n        0.18033001, -0.06424001, -0.60450199, -0.61573298, -0.117915  ,\n        0.54632001, -2.46438003,  1.2958    ,  0.43672919, -0.33475   ,\n       -0.45590001,  0.33024999, -1.04118998, -0.77541   , -0.0731    ,\n        0.44927103,  0.55459999, -0.74441001, -0.12106   , -0.10599002,\n       -0.35222001,  0.160406  ,  0.11559999, -1.11454001,  0.256011  ,\n       -0.32968998,  0.11420999,  0.26465002,  0.3918    ,  0.03144997])"
     },
     "execution_count": 92,
     "metadata": {},
     "output_type": "execute_result"
    }
   ],
   "source": [
    "first = np.zeros(300)\n",
    "first + glove_model[\"hello\"] + glove_model[\"warning\"]"
   ],
   "metadata": {
    "collapsed": false
   }
  },
  {
   "cell_type": "code",
   "execution_count": 90,
   "outputs": [
    {
     "data": {
      "text/plain": "300"
     },
     "execution_count": 90,
     "metadata": {},
     "output_type": "execute_result"
    }
   ],
   "source": [
    "glove_model.vector_size"
   ],
   "metadata": {
    "collapsed": false
   }
  },
  {
   "cell_type": "code",
   "execution_count": 102,
   "outputs": [
    {
     "data": {
      "text/plain": "                                        comment_text  toxic  sentence_lengths  \\\n0         fine! still want publish rubbish, go right      1                 7   \n1  warning please delete edit legitimate talk pag...      0                16   \n2                                 10 september 1910,      0                 3   \n3                            mother sucker!this bull      1                 3   \n4  shortened term rather cantana, would best way ...      0                57   \n\n                                           embedding  \n0  [[0.0, 0.0, 0.0, 0.0, 0.0, 0.0, 0.0, 0.0, 0.0,...  \n1  [[0.3679800033569336, -0.31894001364707947, 0....  \n2  [[-0.44189000129699707, 0.24247999489307404, -...  \n3  [[-0.34762999415397644, 0.0055900998413562775,...  \n4  [[-0.44009000062942505, -0.10661999881267548, ...  ",
      "text/html": "<div>\n<style scoped>\n    .dataframe tbody tr th:only-of-type {\n        vertical-align: middle;\n    }\n\n    .dataframe tbody tr th {\n        vertical-align: top;\n    }\n\n    .dataframe thead th {\n        text-align: right;\n    }\n</style>\n<table border=\"1\" class=\"dataframe\">\n  <thead>\n    <tr style=\"text-align: right;\">\n      <th></th>\n      <th>comment_text</th>\n      <th>toxic</th>\n      <th>sentence_lengths</th>\n      <th>embedding</th>\n    </tr>\n  </thead>\n  <tbody>\n    <tr>\n      <th>0</th>\n      <td>fine! still want publish rubbish, go right</td>\n      <td>1</td>\n      <td>7</td>\n      <td>[[0.0, 0.0, 0.0, 0.0, 0.0, 0.0, 0.0, 0.0, 0.0,...</td>\n    </tr>\n    <tr>\n      <th>1</th>\n      <td>warning please delete edit legitimate talk pag...</td>\n      <td>0</td>\n      <td>16</td>\n      <td>[[0.3679800033569336, -0.31894001364707947, 0....</td>\n    </tr>\n    <tr>\n      <th>2</th>\n      <td>10 september 1910,</td>\n      <td>0</td>\n      <td>3</td>\n      <td>[[-0.44189000129699707, 0.24247999489307404, -...</td>\n    </tr>\n    <tr>\n      <th>3</th>\n      <td>mother sucker!this bull</td>\n      <td>1</td>\n      <td>3</td>\n      <td>[[-0.34762999415397644, 0.0055900998413562775,...</td>\n    </tr>\n    <tr>\n      <th>4</th>\n      <td>shortened term rather cantana, would best way ...</td>\n      <td>0</td>\n      <td>57</td>\n      <td>[[-0.44009000062942505, -0.10661999881267548, ...</td>\n    </tr>\n  </tbody>\n</table>\n</div>"
     },
     "execution_count": 102,
     "metadata": {},
     "output_type": "execute_result"
    }
   ],
   "source": [
    "df.drop(df[df.comment_text.str.len() == 0].index, inplace=True)\n",
    "df.reset_index(drop=True, inplace=True)\n",
    "df.head()"
   ],
   "metadata": {
    "collapsed": false
   }
  },
  {
   "cell_type": "code",
   "execution_count": 101,
   "outputs": [
    {
     "data": {
      "text/plain": "Int64Index([  272,   771,  1085,  1301,  1330,  1965,  2416,  2788,  3097,\n             3194,\n            ...\n            28270, 29220, 29457, 29493, 30414, 30607, 30657, 30758, 30926,\n            30995],\n           dtype='int64', length=108)"
     },
     "execution_count": 101,
     "metadata": {},
     "output_type": "execute_result"
    }
   ],
   "source": [
    "df[df.comment_text.str.len() == 0].index"
   ],
   "metadata": {
    "collapsed": false
   }
  }
 ],
 "metadata": {
  "kernelspec": {
   "display_name": "Python 3",
   "language": "python",
   "name": "python3"
  },
  "language_info": {
   "codemirror_mode": {
    "name": "ipython",
    "version": 2
   },
   "file_extension": ".py",
   "mimetype": "text/x-python",
   "name": "python",
   "nbconvert_exporter": "python",
   "pygments_lexer": "ipython2",
   "version": "2.7.6"
  }
 },
 "nbformat": 4,
 "nbformat_minor": 0
}
