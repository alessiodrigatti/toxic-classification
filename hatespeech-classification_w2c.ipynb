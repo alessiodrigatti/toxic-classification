{
 "metadata": {
  "kernelspec": {
   "language": "python",
   "display_name": "Python 3",
   "name": "python3"
  },
  "language_info": {
   "name": "python",
   "version": "3.7.12",
   "mimetype": "text/x-python",
   "codemirror_mode": {
    "name": "ipython",
    "version": 3
   },
   "pygments_lexer": "ipython3",
   "nbconvert_exporter": "python",
   "file_extension": ".py"
  },
  "colab": {
   "provenance": []
  }
 },
 "nbformat_minor": 0,
 "nbformat": 4,
 "cells": [
  {
   "cell_type": "markdown",
   "source": [
    "### Load Data, drop empty Txt and Settings\n",
    "----"
   ],
   "metadata": {
    "collapsed": false
   }
  },
  {
   "cell_type": "code",
   "execution_count": 6,
   "outputs": [],
   "source": [
    "import os\n",
    "from sklearn.model_selection import train_test_split\n",
    "import pandas as pd\n",
    "from sklearn.naive_bayes import MultinomialNB\n",
    "from sklearn.ensemble import RandomForestClassifier\n",
    "from sklearn.linear_model import LogisticRegression\n",
    "from sklearn.metrics import classification_report, confusion_matrix, accuracy_score\n",
    "from sklearn.preprocessing import MinMaxScaler\n",
    "import seaborn as sns\n",
    "import matplotlib.pyplot as plt\n",
    "import csv\n",
    "from gensim.models import Word2Vec"
   ],
   "metadata": {
    "collapsed": false
   }
  },
  {
   "cell_type": "code",
   "execution_count": 7,
   "outputs": [
    {
     "data": {
      "text/plain": "                                        comment_text  toxic  sentence_lengths\n0  u created request scholarlyarticles awaiting c...      1                 6\n1  looking lgbt profession category point get beh...      1                17\n2  new york city regulation regarding apparently ...      0                12\n3  thank speedy rollback would believe first time...      1                16\n4  want talk stuff perfectly willing refer commen...      0                53",
      "text/html": "<div>\n<style scoped>\n    .dataframe tbody tr th:only-of-type {\n        vertical-align: middle;\n    }\n\n    .dataframe tbody tr th {\n        vertical-align: top;\n    }\n\n    .dataframe thead th {\n        text-align: right;\n    }\n</style>\n<table border=\"1\" class=\"dataframe\">\n  <thead>\n    <tr style=\"text-align: right;\">\n      <th></th>\n      <th>comment_text</th>\n      <th>toxic</th>\n      <th>sentence_lengths</th>\n    </tr>\n  </thead>\n  <tbody>\n    <tr>\n      <th>0</th>\n      <td>u created request scholarlyarticles awaiting c...</td>\n      <td>1</td>\n      <td>6</td>\n    </tr>\n    <tr>\n      <th>1</th>\n      <td>looking lgbt profession category point get beh...</td>\n      <td>1</td>\n      <td>17</td>\n    </tr>\n    <tr>\n      <th>2</th>\n      <td>new york city regulation regarding apparently ...</td>\n      <td>0</td>\n      <td>12</td>\n    </tr>\n    <tr>\n      <th>3</th>\n      <td>thank speedy rollback would believe first time...</td>\n      <td>1</td>\n      <td>16</td>\n    </tr>\n    <tr>\n      <th>4</th>\n      <td>want talk stuff perfectly willing refer commen...</td>\n      <td>0</td>\n      <td>53</td>\n    </tr>\n  </tbody>\n</table>\n</div>"
     },
     "execution_count": 7,
     "metadata": {},
     "output_type": "execute_result"
    }
   ],
   "source": [
    "## SETTINGS\n",
    "\n",
    "# active models\n",
    "SET_NN_active = False\n",
    "\n",
    "PATH_w2v_model = \"models/word2vec_300.model\"\n",
    "SET_track_scores = True\n",
    "SET_name_outputfile = \"performance_280323.csv\"\n",
    "\n",
    "SET_datapath = \"data_pp.json\"\n",
    "\n",
    "df = pd.read_json(SET_datapath, orient=\"columns\")\n",
    "\n",
    "df.drop(df[df.comment_text.str.len() == 0].index, inplace=True)\n",
    "df.reset_index(drop=True, inplace=True)\n",
    "\n",
    "df.head()"
   ],
   "metadata": {
    "collapsed": false
   }
  },
  {
   "cell_type": "markdown",
   "source": [
    "### Word Embedding\n",
    "\n",
    "----"
   ],
   "metadata": {
    "collapsed": false
   }
  },
  {
   "cell_type": "markdown",
   "source": [
    "#### Glove Vectorizer"
   ],
   "metadata": {
    "collapsed": false
   }
  },
  {
   "cell_type": "code",
   "execution_count": 8,
   "outputs": [],
   "source": [
    "import numpy as np\n",
    "# np.seterr(invalid='ignore')\n",
    "\n",
    "def get_embedding(series, model, tokenizer):\n",
    "    embedding_matrix = []\n",
    "\n",
    "    for text in series.to_list():\n",
    "        text_vec = np.zeros(model.vector_size)\n",
    "        number_of_vectors = 0\n",
    "\n",
    "        tokens = tokenizer.tokenize(text)\n",
    "\n",
    "        for token in tokens:\n",
    "            number_of_vectors += 1\n",
    "\n",
    "            if token in model.wv.key_to_index:\n",
    "                text_vec = text_vec + model.wv[token]\n",
    "\n",
    "        embedding_matrix.append( text_vec / number_of_vectors)\n",
    "\n",
    "    return np.array(embedding_matrix)"
   ],
   "metadata": {
    "collapsed": false
   }
  },
  {
   "cell_type": "code",
   "execution_count": 9,
   "outputs": [],
   "source": [
    "if not os.path.isdir(\"models/\"):\n",
    "    os.mkdir(\"models\")\n",
    "\n",
    "if not os.path.isfile(PATH_w2v_model):\n",
    "\n",
    "    model_w2v = Word2Vec(sentences=df[\"comment_text\"].str.split(), vector_size=300, window=5, min_count=1, workers=4)\n",
    "    model_w2v.save(PATH_w2v_model)\n",
    "\n",
    "model_w2v = Word2Vec.load(PATH_w2v_model)"
   ],
   "metadata": {
    "collapsed": false
   }
  },
  {
   "cell_type": "code",
   "execution_count": 10,
   "outputs": [],
   "source": [
    "from nltk.tokenize import RegexpTokenizer\n",
    "tokenizer = RegexpTokenizer(r\"[a-zA-Z0-9]+\")\n",
    "\n",
    "X = get_embedding(df.comment_text, model_w2v, tokenizer)\n",
    "y = df.toxic.values"
   ],
   "metadata": {
    "collapsed": false
   }
  },
  {
   "cell_type": "markdown",
   "source": [
    "### Split Data for Models\n",
    "----"
   ],
   "metadata": {
    "collapsed": false
   }
  },
  {
   "cell_type": "code",
   "execution_count": 11,
   "outputs": [],
   "source": [
    "X_train, X_test, y_train, y_test = train_test_split(X, y, test_size=0.2, random_state=99, stratify=y)\n",
    "scaler = MinMaxScaler()\n",
    "X_train = scaler.fit_transform(X_train)\n",
    "X_test = scaler.transform(X_test)"
   ],
   "metadata": {
    "collapsed": false
   }
  },
  {
   "cell_type": "code",
   "source": [
    "print(\"X_train shape:\", X_train.shape)\n",
    "print(\"X_test shape:\", X_test.shape)\n",
    "print(\"y_train shape:\", y_train.shape)\n",
    "print(\"y_test shape:\", y_test.shape)"
   ],
   "metadata": {
    "execution": {
     "iopub.status.busy": "2023-03-08T09:06:44.894984Z",
     "iopub.execute_input": "2023-03-08T09:06:44.895705Z",
     "iopub.status.idle": "2023-03-08T09:06:44.902237Z",
     "shell.execute_reply.started": "2023-03-08T09:06:44.895669Z",
     "shell.execute_reply": "2023-03-08T09:06:44.900681Z"
    },
    "trusted": true,
    "id": "BXQp4lTzC1OK"
   },
   "execution_count": 12,
   "outputs": [
    {
     "name": "stdout",
     "output_type": "stream",
     "text": [
      "X_train shape: (240368, 300)\n",
      "X_test shape: (60092, 300)\n",
      "y_train shape: (240368,)\n",
      "y_test shape: (60092,)\n"
     ]
    }
   ]
  },
  {
   "cell_type": "markdown",
   "source": [
    "### Train Models and get Scores\n",
    "\n",
    "----"
   ],
   "metadata": {
    "collapsed": false
   }
  },
  {
   "cell_type": "markdown",
   "source": [
    "#### Try... Neural Network"
   ],
   "metadata": {
    "collapsed": false
   }
  },
  {
   "cell_type": "code",
   "execution_count": 13,
   "outputs": [],
   "source": [
    "if SET_NN_active:\n",
    "\n",
    "    import numpy as np\n",
    "    from keras.models import Sequential\n",
    "    from keras.layers import Dense, Dropout, Activation, Flatten\n",
    "\n",
    "    # convert labels to categorical data\n",
    "    num_classes = 2\n",
    "    input_shape = X_train.shape\n",
    "\n",
    "    # define the model architecture\n",
    "    model = Sequential()\n",
    "    model.add(Flatten(input_shape=input_shape))\n",
    "    model.add(Dense(512))\n",
    "    model.add(Activation('relu'))\n",
    "    model.add(Dropout(0.15))\n",
    "    model.add(Dense(num_classes))\n",
    "    model.add(Activation('softmax'))\n",
    "\n",
    "    model.compile(loss='categorical_crossentropy', optimizer='adam', metrics=['precission'])\n",
    "\n",
    "    model.fit(X_train, y_train, batch_size=1, epochs=5, validation_data=(X_test, y_test))"
   ],
   "metadata": {
    "collapsed": false
   }
  },
  {
   "cell_type": "code",
   "source": [
    "def model_train(model, X_train, X_test, y_train, y_test):\n",
    "    model.fit(X_train,y_train)\n",
    "    y_pred_tr = model.predict(X_train)\n",
    "    y_pred = model.predict(X_test)\n",
    "\n",
    "    print(\"--------------------Training Performance---------------------\")\n",
    "    print(accuracy_score(y_train,y_pred_tr))\n",
    "    print(classification_report(y_train,y_pred_tr))\n",
    "    print(\"-------------------------------------------------------------\")\n",
    "    print(\"--------------------Testing Performance----------------------\")\n",
    "    print(accuracy_score(y_test,y_pred))\n",
    "    print(classification_report(y_test,y_pred))\n",
    "\n",
    "    sns.heatmap(confusion_matrix(y_test, y_pred),cmap='viridis',annot=True,fmt='.4g')\n",
    "    plt.xlabel('Predicted Class')\n",
    "    plt.ylabel('Actual Class')\n",
    "    plt.show()\n",
    "\n",
    "    if SET_track_scores:\n",
    "\n",
    "        report = classification_report(y_test,y_pred, output_dict=True)\n",
    "        # print(report)\n",
    "        recall = report[\"macro avg\"][\"recall\"]\n",
    "        precision = report[\"macro avg\"][\"precision\"]\n",
    "        f1_score = report[\"macro avg\"][\"f1-score\"]\n",
    "\n",
    "        # Save recall value in a CSV file\n",
    "        with open(SET_name_outputfile, mode='a') as csv_file:\n",
    "            fieldnames = ['Model', 'WordEmbedding', 'Precision', 'Recall', 'F1-Score']\n",
    "            writer = csv.DictWriter(csv_file, fieldnames=fieldnames)\n",
    "\n",
    "            # adds header in case csv is empty\n",
    "            if csv_file.tell() == 0:\n",
    "                writer.writeheader()\n",
    "\n",
    "            writer.writerow({'Model': model.__class__.__name__, 'WordEmbedding': 'Word2Vec', 'Precision': precision, 'Recall': recall, 'F1-Score': f1_score})"
   ],
   "metadata": {
    "execution": {
     "iopub.status.busy": "2023-03-08T09:06:48.069063Z",
     "iopub.execute_input": "2023-03-08T09:06:48.069767Z",
     "iopub.status.idle": "2023-03-08T09:06:48.077451Z",
     "shell.execute_reply.started": "2023-03-08T09:06:48.069730Z",
     "shell.execute_reply": "2023-03-08T09:06:48.076100Z"
    },
    "trusted": true,
    "id": "eB0eFrl8C1OK"
   },
   "execution_count": 14,
   "outputs": []
  },
  {
   "cell_type": "markdown",
   "source": [
    "#### Naive Bayes:"
   ],
   "metadata": {
    "id": "tfuKOJNrC1OL"
   }
  },
  {
   "cell_type": "code",
   "source": [
    "modelNB = MultinomialNB()\n",
    "model_train(modelNB, X_train, X_test, y_train, y_test)"
   ],
   "metadata": {
    "execution": {
     "iopub.status.busy": "2023-03-08T08:07:23.062257Z",
     "iopub.execute_input": "2023-03-08T08:07:23.062625Z",
     "iopub.status.idle": "2023-03-08T08:07:24.144923Z",
     "shell.execute_reply.started": "2023-03-08T08:07:23.062594Z",
     "shell.execute_reply": "2023-03-08T08:07:24.143947Z"
    },
    "trusted": true,
    "id": "UzFW6F2_C1OM"
   },
   "execution_count": 15,
   "outputs": [
    {
     "name": "stdout",
     "output_type": "stream",
     "text": [
      "--------------------Training Performance---------------------\n",
      "0.650972675231312\n",
      "              precision    recall  f1-score   support\n",
      "\n",
      "           0       0.65      1.00      0.79    156329\n",
      "           1       0.85      0.00      0.00     84039\n",
      "\n",
      "    accuracy                           0.65    240368\n",
      "   macro avg       0.75      0.50      0.40    240368\n",
      "weighted avg       0.72      0.65      0.51    240368\n",
      "\n",
      "-------------------------------------------------------------\n",
      "--------------------Testing Performance----------------------\n",
      "0.6510517206949344\n",
      "              precision    recall  f1-score   support\n",
      "\n",
      "           0       0.65      1.00      0.79     39082\n",
      "           1       0.87      0.00      0.00     21010\n",
      "\n",
      "    accuracy                           0.65     60092\n",
      "   macro avg       0.76      0.50      0.40     60092\n",
      "weighted avg       0.73      0.65      0.51     60092\n",
      "\n"
     ]
    },
    {
     "data": {
      "text/plain": "<Figure size 640x480 with 2 Axes>",
      "image/png": "[encoded data removed]"
     },
     "metadata": {},
     "output_type": "display_data"
    }
   ]
  },
  {
   "cell_type": "markdown",
   "source": [],
   "metadata": {
    "collapsed": false
   }
  },
  {
   "cell_type": "markdown",
   "source": [
    "#### Logistic Regression:"
   ],
   "metadata": {
    "id": "eR4604KRC1OM"
   }
  },
  {
   "cell_type": "code",
   "source": [
    "modelLR = LogisticRegression(max_iter=1000)\n",
    "model_train(modelLR, X_train, X_test, y_train, y_test)"
   ],
   "metadata": {
    "execution": {
     "iopub.status.busy": "2023-03-08T08:09:56.827671Z",
     "iopub.execute_input": "2023-03-08T08:09:56.828070Z",
     "iopub.status.idle": "2023-03-08T08:11:11.443944Z",
     "shell.execute_reply.started": "2023-03-08T08:09:56.828032Z",
     "shell.execute_reply": "2023-03-08T08:11:11.442942Z"
    },
    "trusted": true,
    "id": "KkkTCParC1OM"
   },
   "execution_count": 16,
   "outputs": [
    {
     "name": "stderr",
     "output_type": "stream",
     "text": [
      "D:\\_4semester\\nlp-p02_2\\venv\\Lib\\site-packages\\sklearn\\linear_model\\_logistic.py:458: ConvergenceWarning: lbfgs failed to converge (status=1):\n",
      "STOP: TOTAL NO. of ITERATIONS REACHED LIMIT.\n",
      "\n",
      "Increase the number of iterations (max_iter) or scale the data as shown in:\n",
      "    https://scikit-learn.org/stable/modules/preprocessing.html\n",
      "Please also refer to the documentation for alternative solver options:\n",
      "    https://scikit-learn.org/stable/modules/linear_model.html#logistic-regression\n",
      "  n_iter_i = _check_optimize_result(\n"
     ]
    },
    {
     "name": "stdout",
     "output_type": "stream",
     "text": [
      "--------------------Training Performance---------------------\n",
      "0.7182445250615722\n",
      "              precision    recall  f1-score   support\n",
      "\n",
      "           0       0.71      0.95      0.81    156329\n",
      "           1       0.76      0.28      0.41     84039\n",
      "\n",
      "    accuracy                           0.72    240368\n",
      "   macro avg       0.74      0.62      0.61    240368\n",
      "weighted avg       0.73      0.72      0.67    240368\n",
      "\n",
      "-------------------------------------------------------------\n",
      "--------------------Testing Performance----------------------\n",
      "0.7171004459828263\n",
      "              precision    recall  f1-score   support\n",
      "\n",
      "           0       0.71      0.95      0.81     39082\n",
      "           1       0.76      0.28      0.41     21010\n",
      "\n",
      "    accuracy                           0.72     60092\n",
      "   macro avg       0.73      0.62      0.61     60092\n",
      "weighted avg       0.73      0.72      0.67     60092\n",
      "\n"
     ]
    },
    {
     "data": {
      "text/plain": "<Figure size 640x480 with 2 Axes>",
      "image/png": "[encoded data removed]"
     },
     "metadata": {},
     "output_type": "display_data"
    }
   ]
  },
  {
   "cell_type": "markdown",
   "source": [
    "#### Random forest:"
   ],
   "metadata": {
    "id": "bEGUQQvkC1OM"
   }
  },
  {
   "cell_type": "code",
   "source": [
    "model = RandomForestClassifier(n_estimators=100,max_depth=10,max_features='sqrt')\n",
    "model_train(model, X_train, X_test, y_train, y_test)"
   ],
   "metadata": {
    "execution": {
     "iopub.status.busy": "2023-03-08T08:20:13.896081Z",
     "iopub.execute_input": "2023-03-08T08:20:13.896506Z",
     "iopub.status.idle": "2023-03-08T08:20:37.522992Z",
     "shell.execute_reply.started": "2023-03-08T08:20:13.896471Z",
     "shell.execute_reply": "2023-03-08T08:20:37.521949Z"
    },
    "trusted": true,
    "id": "2mjAK3ZTC1ON"
   },
   "execution_count": 17,
   "outputs": [
    {
     "name": "stdout",
     "output_type": "stream",
     "text": [
      "--------------------Training Performance---------------------\n",
      "0.7333588497636957\n",
      "              precision    recall  f1-score   support\n",
      "\n",
      "           0       0.72      0.96      0.82    156329\n",
      "           1       0.81      0.31      0.45     84039\n",
      "\n",
      "    accuracy                           0.73    240368\n",
      "   macro avg       0.76      0.64      0.64    240368\n",
      "weighted avg       0.75      0.73      0.69    240368\n",
      "\n",
      "-------------------------------------------------------------\n",
      "--------------------Testing Performance----------------------\n",
      "0.7124409239166611\n",
      "              precision    recall  f1-score   support\n",
      "\n",
      "           0       0.71      0.94      0.81     39082\n",
      "           1       0.73      0.28      0.41     21010\n",
      "\n",
      "    accuracy                           0.71     60092\n",
      "   macro avg       0.72      0.61      0.61     60092\n",
      "weighted avg       0.72      0.71      0.67     60092\n",
      "\n"
     ]
    },
    {
     "data": {
      "text/plain": "<Figure size 640x480 with 2 Axes>",
      "image/png": "[encoded data removed]"
     },
     "metadata": {},
     "output_type": "display_data"
    }
   ]
  },
  {
   "cell_type": "code",
   "source": [
    "print(\"finished\")"
   ],
   "metadata": {
    "id": "A7KILiHlC1ON"
   },
   "execution_count": 18,
   "outputs": [
    {
     "name": "stdout",
     "output_type": "stream",
     "text": [
      "finished\n"
     ]
    }
   ]
  }
 ]
}
