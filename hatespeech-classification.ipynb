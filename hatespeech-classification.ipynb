{
 "metadata": {
  "kernelspec": {
   "language": "python",
   "display_name": "Python 3",
   "name": "python3"
  },
  "language_info": {
   "name": "python",
   "version": "3.7.12",
   "mimetype": "text/x-python",
   "codemirror_mode": {
    "name": "ipython",
    "version": 3
   },
   "pygments_lexer": "ipython3",
   "nbconvert_exporter": "python",
   "file_extension": ".py"
  },
  "colab": {
   "provenance": []
  }
 },
 "nbformat_minor": 0,
 "nbformat": 4,
 "cells": [
  {
   "cell_type": "markdown",
   "source": [
    "### Load Data, drop empty Txt and Settings\n",
    "----"
   ],
   "metadata": {
    "collapsed": false
   }
  },
  {
   "cell_type": "code",
   "execution_count": 202,
   "outputs": [],
   "source": [
    "from sklearn.feature_extraction.text import TfidfVectorizer\n",
    "from sklearn.model_selection import train_test_split\n",
    "import pandas as pd\n",
    "from sklearn.naive_bayes import MultinomialNB\n",
    "from sklearn.ensemble import RandomForestClassifier\n",
    "from sklearn.linear_model import LogisticRegression\n",
    "from sklearn.metrics import classification_report, confusion_matrix, accuracy_score\n",
    "from sklearn.feature_extraction.text import HashingVectorizer\n",
    "from sklearn.preprocessing import MinMaxScaler\n",
    "import seaborn as sns\n",
    "import matplotlib.pyplot as plt\n",
    "import csv"
   ],
   "metadata": {
    "collapsed": false
   }
  },
  {
   "cell_type": "code",
   "execution_count": 203,
   "outputs": [
    {
     "data": {
      "text/plain": "                                        comment_text  toxic  sentence_lengths\n0  officious busybody editing nazi january 7th 20...      0                55\n1  baneesh baburaj working data supporting team s...      1                78\n2  dunmanway title change rockpocket appears impo...      0                26\n3  cleanup known croatian juraj julije croat work...      0                96\n4                                 hey real end plain      1                 4",
      "text/html": "<div>\n<style scoped>\n    .dataframe tbody tr th:only-of-type {\n        vertical-align: middle;\n    }\n\n    .dataframe tbody tr th {\n        vertical-align: top;\n    }\n\n    .dataframe thead th {\n        text-align: right;\n    }\n</style>\n<table border=\"1\" class=\"dataframe\">\n  <thead>\n    <tr style=\"text-align: right;\">\n      <th></th>\n      <th>comment_text</th>\n      <th>toxic</th>\n      <th>sentence_lengths</th>\n    </tr>\n  </thead>\n  <tbody>\n    <tr>\n      <th>0</th>\n      <td>officious busybody editing nazi january 7th 20...</td>\n      <td>0</td>\n      <td>55</td>\n    </tr>\n    <tr>\n      <th>1</th>\n      <td>baneesh baburaj working data supporting team s...</td>\n      <td>1</td>\n      <td>78</td>\n    </tr>\n    <tr>\n      <th>2</th>\n      <td>dunmanway title change rockpocket appears impo...</td>\n      <td>0</td>\n      <td>26</td>\n    </tr>\n    <tr>\n      <th>3</th>\n      <td>cleanup known croatian juraj julije croat work...</td>\n      <td>0</td>\n      <td>96</td>\n    </tr>\n    <tr>\n      <th>4</th>\n      <td>hey real end plain</td>\n      <td>1</td>\n      <td>4</td>\n    </tr>\n  </tbody>\n</table>\n</div>"
     },
     "execution_count": 203,
     "metadata": {},
     "output_type": "execute_result"
    }
   ],
   "source": [
    "## SETTINGS\n",
    "\n",
    "# word embeddings\n",
    "SET_vectorizer_hash = False\n",
    "SET_vectorizer_tfidf = True\n",
    "SET_vectorizer_glove = False\n",
    "SET_vectorizer_OHE = False\n",
    "\n",
    "# active models\n",
    "SET_NN_active = False\n",
    "\n",
    "\n",
    "SET_datapath = \"data_pp_sample2.json\"\n",
    "\n",
    "df = pd.read_json(SET_datapath, orient=\"columns\")\n",
    "\n",
    "df.drop(df[df.comment_text.str.len() == 0].index, inplace=True)\n",
    "df.reset_index(drop=True, inplace=True)\n",
    "\n",
    "df.head()"
   ],
   "metadata": {
    "collapsed": false
   }
  },
  {
   "cell_type": "markdown",
   "source": [
    "### Word Embedding\n",
    "\n",
    "----"
   ],
   "metadata": {
    "collapsed": false
   }
  },
  {
   "cell_type": "markdown",
   "source": [
    "#### Hash Vectorizer"
   ],
   "metadata": {
    "collapsed": false
   }
  },
  {
   "cell_type": "code",
   "execution_count": 204,
   "outputs": [],
   "source": [
    "if SET_vectorizer_hash:\n",
    "\n",
    "    vectorizer_hash = HashingVectorizer(ngram_range=(1,2), n_features=500)\n",
    "    X = vectorizer_hash.fit_transform(df[\"comment_text\"].values.tolist()).toarray()\n",
    "    y = df[\"toxic\"].values"
   ],
   "metadata": {
    "collapsed": false
   }
  },
  {
   "cell_type": "markdown",
   "source": [
    "#### TFidf Vectorizer"
   ],
   "metadata": {
    "collapsed": false
   }
  },
  {
   "cell_type": "code",
   "execution_count": 205,
   "outputs": [],
   "source": [
    "if SET_vectorizer_tfidf:\n",
    "\n",
    "    vectorizer_tfidf = TfidfVectorizer(ngram_range=(1,2), max_features=500)\n",
    "    X = vectorizer_tfidf.fit_transform(df[\"comment_text\"].values.tolist()).toarray()\n",
    "    y = df['toxic'].values"
   ],
   "metadata": {
    "collapsed": false
   }
  },
  {
   "cell_type": "markdown",
   "source": [
    "#### Glove Vectorizer"
   ],
   "metadata": {
    "collapsed": false
   }
  },
  {
   "cell_type": "code",
   "execution_count": 206,
   "outputs": [],
   "source": [
    "import numpy as np\n",
    "np.seterr(invalid='ignore')\n",
    "\n",
    "def get_embedding(series, model, tokenizer):\n",
    "    embedding_matrix = []\n",
    "\n",
    "    for text in series.to_list():\n",
    "        text_vec = np.zeros(model.vector_size)\n",
    "        number_of_vectors = 0\n",
    "\n",
    "        tokens = tokenizer.tokenize(text)\n",
    "\n",
    "        for token in tokens:\n",
    "            number_of_vectors += 1\n",
    "\n",
    "            if token in glove_model.key_to_index:\n",
    "                text_vec = text_vec + model[token]\n",
    "\n",
    "        embedding_matrix.append( text_vec / number_of_vectors)\n",
    "\n",
    "    return np.array(embedding_matrix)"
   ],
   "metadata": {
    "collapsed": false
   }
  },
  {
   "cell_type": "code",
   "execution_count": 207,
   "outputs": [],
   "source": [
    "if SET_vectorizer_glove:\n",
    "    import gensim.downloader as api\n",
    "\n",
    "    glove_model = api.load(\"glove-wiki-gigaword-300\")"
   ],
   "metadata": {
    "collapsed": false
   }
  },
  {
   "cell_type": "code",
   "execution_count": 208,
   "outputs": [],
   "source": [
    "if SET_vectorizer_glove:\n",
    "    from nltk.tokenize import RegexpTokenizer\n",
    "    tokenizer = RegexpTokenizer(r\"[a-zA-Z0-9]+\")\n",
    "\n",
    "    X = get_embedding(df.comment_text, glove_model, tokenizer)\n",
    "    y = df.toxic.values"
   ],
   "metadata": {
    "collapsed": false
   }
  },
  {
   "cell_type": "markdown",
   "source": [
    "#### OneHotEncoder"
   ],
   "metadata": {
    "collapsed": false
   }
  },
  {
   "cell_type": "code",
   "execution_count": 209,
   "outputs": [],
   "source": [
    "if SET_vectorizer_OHE:\n",
    "\n",
    "    from sklearn.preprocessing import OneHotEncoder\n",
    "    encoder = OneHotEncoder()\n",
    "    model_ohe = encoder.fit_transform(df[[\"comment_text\"]]).toarray()"
   ],
   "metadata": {
    "collapsed": false
   }
  },
  {
   "cell_type": "markdown",
   "source": [
    "### Split Data for Models\n",
    "----"
   ],
   "metadata": {
    "collapsed": false
   }
  },
  {
   "cell_type": "code",
   "execution_count": 210,
   "outputs": [],
   "source": [
    "X_train, X_test, y_train, y_test = train_test_split(X, y, test_size=0.2, random_state=99)\n",
    "scaler = MinMaxScaler()\n",
    "X_train = scaler.fit_transform(X_train)\n",
    "X_test = scaler.transform(X_test)"
   ],
   "metadata": {
    "collapsed": false
   }
  },
  {
   "cell_type": "code",
   "source": [
    "print(\"X_train shape:\", X_train.shape)\n",
    "print(\"X_test shape:\", X_test.shape)\n",
    "print(\"y_train shape:\", y_train.shape)\n",
    "print(\"y_test shape:\", y_test.shape)"
   ],
   "metadata": {
    "execution": {
     "iopub.status.busy": "2023-03-08T09:06:44.894984Z",
     "iopub.execute_input": "2023-03-08T09:06:44.895705Z",
     "iopub.status.idle": "2023-03-08T09:06:44.902237Z",
     "shell.execute_reply.started": "2023-03-08T09:06:44.895669Z",
     "shell.execute_reply": "2023-03-08T09:06:44.900681Z"
    },
    "trusted": true,
    "id": "BXQp4lTzC1OK"
   },
   "execution_count": 211,
   "outputs": [
    {
     "name": "stdout",
     "output_type": "stream",
     "text": [
      "X_train shape: (23978, 500)\n",
      "X_test shape: (5995, 500)\n",
      "y_train shape: (23978,)\n",
      "y_test shape: (5995,)\n"
     ]
    }
   ]
  },
  {
   "cell_type": "markdown",
   "source": [
    "### Train Models and get Scores\n",
    "\n",
    "----"
   ],
   "metadata": {
    "collapsed": false
   }
  },
  {
   "cell_type": "markdown",
   "source": [
    "#### Try... Neural Network"
   ],
   "metadata": {
    "collapsed": false
   }
  },
  {
   "cell_type": "code",
   "execution_count": 212,
   "outputs": [],
   "source": [
    "if SET_NN_active:\n",
    "\n",
    "    import numpy as np\n",
    "    from keras.models import Sequential\n",
    "    from keras.layers import Dense, Dropout, Activation, Flatten\n",
    "\n",
    "\n",
    "    # convert labels to categorical data\n",
    "    num_classes = 2\n",
    "    input_shape = X_train.shape\n",
    "\n",
    "\n",
    "    # define the model architecture\n",
    "    model = Sequential()\n",
    "    model.add(Flatten(input_shape=input_shape))\n",
    "    model.add(Dense(512))\n",
    "    model.add(Activation('relu'))\n",
    "    model.add(Dropout(0.15))\n",
    "    model.add(Dense(num_classes))\n",
    "    model.add(Activation('softmax'))\n",
    "\n",
    "    model.compile(loss='categorical_crossentropy', optimizer='adam', metrics=['precission'])\n",
    "\n",
    "    model.fit(X_train, y_train, batch_size=1, epochs=5, validation_data=(X_test, y_test))"
   ],
   "metadata": {
    "collapsed": false
   }
  },
  {
   "cell_type": "code",
   "source": [
    "def model_train(model, X_train, X_test, y_train, y_test):\n",
    "    model.fit(X_train,y_train)\n",
    "    y_pred_tr = model.predict(X_train)\n",
    "    y_pred = model.predict(X_test)\n",
    "\n",
    "    report = classification_report(y_test,y_pred, output_dict=True)\n",
    "    # print(report)\n",
    "    recall = report[\"macro avg\"][\"recall\"]\n",
    "    precision = report[\"macro avg\"][\"precision\"]\n",
    "\n",
    "\n",
    "    print(\"--------------------Training Performance---------------------\")\n",
    "    print(accuracy_score(y_train,y_pred_tr))\n",
    "    print(classification_report(y_train,y_pred_tr))\n",
    "    print(\"-------------------------------------------------------------\")\n",
    "    print(\"--------------------Testing Performance----------------------\")\n",
    "    print(accuracy_score(y_test,y_pred))\n",
    "    print(classification_report(y_test,y_pred))\n",
    "\n",
    "    sns.heatmap(confusion_matrix(y_test, y_pred),cmap='viridis',annot=True,fmt='.4g')\n",
    "    plt.xlabel('Predicted Class')\n",
    "    plt.ylabel('Actual Class')\n",
    "    plt.show()\n",
    "\n",
    "    # Save recall value in a CSV file\n",
    "    with open(\"performance.csv\", mode='a') as csv_file:\n",
    "        fieldnames = ['Model', 'WordEmbedding', 'Precision', 'Recall']\n",
    "        writer = csv.DictWriter(csv_file, fieldnames=fieldnames)\n",
    "\n",
    "        # adds header in case csv is empty\n",
    "        if csv_file.tell() == 0:\n",
    "            writer.writeheader()\n",
    "\n",
    "        writer.writerow({'Model': model.__class__.__name__, 'WordEmbedding': 'TFidf', 'Precision': precision, 'Recall': recall})"
   ],
   "metadata": {
    "execution": {
     "iopub.status.busy": "2023-03-08T09:06:48.069063Z",
     "iopub.execute_input": "2023-03-08T09:06:48.069767Z",
     "iopub.status.idle": "2023-03-08T09:06:48.077451Z",
     "shell.execute_reply.started": "2023-03-08T09:06:48.069730Z",
     "shell.execute_reply": "2023-03-08T09:06:48.076100Z"
    },
    "trusted": true,
    "id": "eB0eFrl8C1OK"
   },
   "execution_count": 213,
   "outputs": []
  },
  {
   "cell_type": "markdown",
   "source": [
    "#### Naive Bayes:"
   ],
   "metadata": {
    "id": "tfuKOJNrC1OL"
   }
  },
  {
   "cell_type": "code",
   "source": [
    "modelNB = MultinomialNB()\n",
    "model_train(modelNB, X_train, X_test, y_train, y_test)"
   ],
   "metadata": {
    "execution": {
     "iopub.status.busy": "2023-03-08T08:07:23.062257Z",
     "iopub.execute_input": "2023-03-08T08:07:23.062625Z",
     "iopub.status.idle": "2023-03-08T08:07:24.144923Z",
     "shell.execute_reply.started": "2023-03-08T08:07:23.062594Z",
     "shell.execute_reply": "2023-03-08T08:07:24.143947Z"
    },
    "trusted": true,
    "id": "UzFW6F2_C1OM"
   },
   "execution_count": 214,
   "outputs": [
    {
     "name": "stdout",
     "output_type": "stream",
     "text": [
      "--------------------Training Performance---------------------\n",
      "0.7046459254316457\n",
      "              precision    recall  f1-score   support\n",
      "\n",
      "           0       0.69      0.98      0.81     15564\n",
      "           1       0.84      0.19      0.32      8414\n",
      "\n",
      "    accuracy                           0.70     23978\n",
      "   macro avg       0.77      0.59      0.56     23978\n",
      "weighted avg       0.75      0.70      0.64     23978\n",
      "\n",
      "-------------------------------------------------------------\n",
      "--------------------Testing Performance----------------------\n",
      "0.7124270225187657\n",
      "              precision    recall  f1-score   support\n",
      "\n",
      "           0       0.70      0.98      0.82      3927\n",
      "           1       0.84      0.21      0.33      2068\n",
      "\n",
      "    accuracy                           0.71      5995\n",
      "   macro avg       0.77      0.59      0.57      5995\n",
      "weighted avg       0.75      0.71      0.65      5995\n",
      "\n"
     ]
    },
    {
     "data": {
      "text/plain": "<Figure size 640x480 with 2 Axes>",
      "image/png": "[encoded data removed]"
     },
     "metadata": {},
     "output_type": "display_data"
    }
   ]
  },
  {
   "cell_type": "markdown",
   "source": [
    "#### Logistic Regression (Best Model) :"
   ],
   "metadata": {
    "id": "eR4604KRC1OM"
   }
  },
  {
   "cell_type": "code",
   "source": [
    "modelLR = LogisticRegression(max_iter=1000)\n",
    "model_train(modelLR, X_train, X_test, y_train, y_test)"
   ],
   "metadata": {
    "execution": {
     "iopub.status.busy": "2023-03-08T08:09:56.827671Z",
     "iopub.execute_input": "2023-03-08T08:09:56.828070Z",
     "iopub.status.idle": "2023-03-08T08:11:11.443944Z",
     "shell.execute_reply.started": "2023-03-08T08:09:56.828032Z",
     "shell.execute_reply": "2023-03-08T08:11:11.442942Z"
    },
    "trusted": true,
    "id": "KkkTCParC1OM"
   },
   "execution_count": 215,
   "outputs": [
    {
     "name": "stdout",
     "output_type": "stream",
     "text": [
      "--------------------Training Performance---------------------\n",
      "0.7052714988739678\n",
      "              precision    recall  f1-score   support\n",
      "\n",
      "           0       0.70      0.97      0.81     15564\n",
      "           1       0.79      0.22      0.34      8414\n",
      "\n",
      "    accuracy                           0.71     23978\n",
      "   macro avg       0.74      0.59      0.58     23978\n",
      "weighted avg       0.73      0.71      0.65     23978\n",
      "\n",
      "-------------------------------------------------------------\n",
      "--------------------Testing Performance----------------------\n",
      "0.7084236864053378\n",
      "              precision    recall  f1-score   support\n",
      "\n",
      "           0       0.70      0.96      0.81      3927\n",
      "           1       0.75      0.23      0.35      2068\n",
      "\n",
      "    accuracy                           0.71      5995\n",
      "   macro avg       0.73      0.60      0.58      5995\n",
      "weighted avg       0.72      0.71      0.65      5995\n",
      "\n"
     ]
    },
    {
     "data": {
      "text/plain": "<Figure size 640x480 with 2 Axes>",
      "image/png": "[encoded data removed]"
     },
     "metadata": {},
     "output_type": "display_data"
    }
   ]
  },
  {
   "cell_type": "markdown",
   "source": [
    "#### Random forest:"
   ],
   "metadata": {
    "id": "bEGUQQvkC1OM"
   }
  },
  {
   "cell_type": "code",
   "source": [
    "model = RandomForestClassifier(n_estimators=50,max_depth=15,max_features='sqrt')\n",
    "model_train(model, X_train, X_test, y_train, y_test)"
   ],
   "metadata": {
    "execution": {
     "iopub.status.busy": "2023-03-08T08:20:13.896081Z",
     "iopub.execute_input": "2023-03-08T08:20:13.896506Z",
     "iopub.status.idle": "2023-03-08T08:20:37.522992Z",
     "shell.execute_reply.started": "2023-03-08T08:20:13.896471Z",
     "shell.execute_reply": "2023-03-08T08:20:37.521949Z"
    },
    "trusted": true,
    "id": "2mjAK3ZTC1ON"
   },
   "execution_count": 216,
   "outputs": [
    {
     "name": "stdout",
     "output_type": "stream",
     "text": [
      "--------------------Training Performance---------------------\n",
      "0.7016431729084994\n",
      "              precision    recall  f1-score   support\n",
      "\n",
      "           0       0.69      1.00      0.81     15564\n",
      "           1       0.97      0.15      0.27      8414\n",
      "\n",
      "    accuracy                           0.70     23978\n",
      "   macro avg       0.83      0.58      0.54     23978\n",
      "weighted avg       0.79      0.70      0.62     23978\n",
      "\n",
      "-------------------------------------------------------------\n",
      "--------------------Testing Performance----------------------\n",
      "0.6992493744787323\n",
      "              precision    recall  f1-score   support\n",
      "\n",
      "           0       0.69      0.99      0.81      3927\n",
      "           1       0.90      0.14      0.25      2068\n",
      "\n",
      "    accuracy                           0.70      5995\n",
      "   macro avg       0.79      0.57      0.53      5995\n",
      "weighted avg       0.76      0.70      0.62      5995\n",
      "\n"
     ]
    },
    {
     "data": {
      "text/plain": "<Figure size 640x480 with 2 Axes>",
      "image/png": "[encoded data removed]"
     },
     "metadata": {},
     "output_type": "display_data"
    }
   ]
  },
  {
   "cell_type": "code",
   "source": [
    "print(\"finished\")"
   ],
   "metadata": {
    "id": "A7KILiHlC1ON"
   },
   "execution_count": 217,
   "outputs": [
    {
     "name": "stdout",
     "output_type": "stream",
     "text": [
      "finished\n"
     ]
    }
   ]
  }
 ]
}
