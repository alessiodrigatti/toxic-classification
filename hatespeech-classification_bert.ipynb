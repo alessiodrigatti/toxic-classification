{
 "metadata": {
  "kernelspec": {
   "language": "python",
   "display_name": "Python 3",
   "name": "python3"
  },
  "language_info": {
   "name": "python",
   "version": "3.7.12",
   "mimetype": "text/x-python",
   "codemirror_mode": {
    "name": "ipython",
    "version": 3
   },
   "pygments_lexer": "ipython3",
   "nbconvert_exporter": "python",
   "file_extension": ".py"
  },
  "colab": {
   "provenance": []
  }
 },
 "nbformat_minor": 0,
 "nbformat": 4,
 "cells": [
  {
   "cell_type": "markdown",
   "source": [
    "### Load Data, drop empty Txt and Settings\n",
    "----"
   ],
   "metadata": {
    "collapsed": false
   }
  },
  {
   "cell_type": "code",
   "execution_count": 25,
   "outputs": [],
   "source": [
    "from sklearn.feature_extraction.text import TfidfVectorizer\n",
    "from sklearn.model_selection import train_test_split\n",
    "import pandas as pd\n",
    "from sklearn.naive_bayes import MultinomialNB\n",
    "from sklearn.ensemble import RandomForestClassifier\n",
    "from sklearn.linear_model import LogisticRegression\n",
    "from sklearn.metrics import classification_report, confusion_matrix, accuracy_score\n",
    "from sklearn.feature_extraction.text import HashingVectorizer\n",
    "from sklearn.preprocessing import MinMaxScaler\n",
    "import seaborn as sns\n",
    "import matplotlib.pyplot as plt"
   ],
   "metadata": {
    "collapsed": false
   }
  },
  {
   "cell_type": "code",
   "execution_count": 26,
   "outputs": [
    {
     "data": {
      "text/plain": "                                        comment_text  toxic\n0  u created request scholarlyarticles awaiting c...      1\n1  looking lgbt profession category point get beh...      1\n2  new york city regulation regarding removal, , ...      0\n3  thank speedy rollback would believe first time...      1\n4  want talk stuff perfectly willing refer commen...      0",
      "text/html": "<div>\n<style scoped>\n    .dataframe tbody tr th:only-of-type {\n        vertical-align: middle;\n    }\n\n    .dataframe tbody tr th {\n        vertical-align: top;\n    }\n\n    .dataframe thead th {\n        text-align: right;\n    }\n</style>\n<table border=\"1\" class=\"dataframe\">\n  <thead>\n    <tr style=\"text-align: right;\">\n      <th></th>\n      <th>comment_text</th>\n      <th>toxic</th>\n    </tr>\n  </thead>\n  <tbody>\n    <tr>\n      <th>0</th>\n      <td>u created request scholarlyarticles awaiting c...</td>\n      <td>1</td>\n    </tr>\n    <tr>\n      <th>1</th>\n      <td>looking lgbt profession category point get beh...</td>\n      <td>1</td>\n    </tr>\n    <tr>\n      <th>2</th>\n      <td>new york city regulation regarding removal, , ...</td>\n      <td>0</td>\n    </tr>\n    <tr>\n      <th>3</th>\n      <td>thank speedy rollback would believe first time...</td>\n      <td>1</td>\n    </tr>\n    <tr>\n      <th>4</th>\n      <td>want talk stuff perfectly willing refer commen...</td>\n      <td>0</td>\n    </tr>\n  </tbody>\n</table>\n</div>"
     },
     "execution_count": 26,
     "metadata": {},
     "output_type": "execute_result"
    }
   ],
   "source": [
    "SET_datapath = \"data_pp_cut.json\"\n",
    "\n",
    "SET_SVM_active = False\n",
    "\n",
    "df = pd.read_json(SET_datapath, orient=\"columns\")\n",
    "\n",
    "df.drop(df[df.comment_text.str.len() == 0].index, inplace=True)\n",
    "df.reset_index(drop=True, inplace=True)\n",
    "\n",
    "df.head()"
   ],
   "metadata": {
    "collapsed": false
   }
  },
  {
   "cell_type": "markdown",
   "source": [
    "### Word Embedding\n",
    "\n",
    "----"
   ],
   "metadata": {
    "collapsed": false
   }
  },
  {
   "cell_type": "markdown",
   "source": [
    "#### BERT"
   ],
   "metadata": {
    "collapsed": false
   }
  },
  {
   "cell_type": "code",
   "execution_count": 27,
   "outputs": [
    {
     "name": "stderr",
     "output_type": "stream",
     "text": [
      "Some layers from the model checkpoint at bert-base-uncased were not used when initializing TFBertModel: ['nsp___cls', 'mlm___cls']\n",
      "- This IS expected if you are initializing TFBertModel from the checkpoint of a model trained on another task or with another architecture (e.g. initializing a BertForSequenceClassification model from a BertForPreTraining model).\n",
      "- This IS NOT expected if you are initializing TFBertModel from the checkpoint of a model that you expect to be exactly identical (initializing a BertForSequenceClassification model from a BertForSequenceClassification model).\n",
      "All the layers of TFBertModel were initialized from the model checkpoint at bert-base-uncased.\n",
      "If your task is similar to the task the model of the checkpoint was trained on, you can already use TFBertModel for predictions without further training.\n"
     ]
    },
    {
     "data": {
      "text/plain": "\"\\nimport torch\\nfrom transformers import BertTokenizer, BertModel\\n\\ntokenizer = BertTokenizer.from_pretrained('bert-base-uncased')\\nmodel = BertModel.from_pretrained('bert-base-uncased')\\n\\n# Tokenize input comments\\nencoded_comments = tokenizer(df['comment_text'].tolist(), padding=True, truncation=True, max_length=128, return_tensors='pt')\\n\\n# Pass tokenized comments through BERT model to get embeddings\\nwith torch.no_grad():\\n    outputs = model(**encoded_comments)\\n    bert_embeddings = outputs.pooler_output.numpy()\""
     },
     "execution_count": 27,
     "metadata": {},
     "output_type": "execute_result"
    }
   ],
   "source": [
    "from transformers import BertTokenizer, TFBertModel\n",
    "\n",
    "tokenizer = BertTokenizer.from_pretrained('bert-base-uncased')\n",
    "model = TFBertModel.from_pretrained('bert-base-uncased')\n",
    "\n",
    "# Tokenize input comments\n",
    "encoded_comments = tokenizer(df['comment_text'].tolist(), padding=True, truncation=True, max_length=128, return_tensors='tf')\n",
    "\n",
    "# Pass tokenized comments through BERT model to get embeddings\n",
    "bert_embeddings = model(encoded_comments)['pooler_output'].numpy()\n",
    "\"\"\"\n",
    "import torch\n",
    "from transformers import BertTokenizer, BertModel\n",
    "\n",
    "tokenizer = BertTokenizer.from_pretrained('bert-base-uncased')\n",
    "model = BertModel.from_pretrained('bert-base-uncased')\n",
    "\n",
    "# Tokenize input comments\n",
    "encoded_comments = tokenizer(df['comment_text'].tolist(), padding=True, truncation=True, max_length=128, return_tensors='pt')\n",
    "\n",
    "# Pass tokenized comments through BERT model to get embeddings\n",
    "with torch.no_grad():\n",
    "    outputs = model(**encoded_comments)\n",
    "    bert_embeddings = outputs.pooler_output.numpy()\"\"\""
   ],
   "metadata": {
    "collapsed": false
   }
  },
  {
   "cell_type": "markdown",
   "source": [
    "### Split Data for Models\n",
    "----"
   ],
   "metadata": {
    "collapsed": false
   }
  },
  {
   "cell_type": "code",
   "execution_count": 28,
   "outputs": [],
   "source": [
    "X_train, X_test, y_train, y_test = train_test_split(bert_embeddings, df['toxic'].values, test_size=0.2, random_state=99)\n",
    "\n",
    "# Scale input features using MinMaxScaler\n",
    "scaler = MinMaxScaler()\n",
    "X_train = scaler.fit_transform(X_train)\n",
    "X_test = scaler.transform(X_test)"
   ],
   "metadata": {
    "collapsed": false
   }
  },
  {
   "cell_type": "code",
   "source": [
    "print(\"X_train shape:\", X_train.shape)\n",
    "print(\"X_test shape:\", X_test.shape)\n",
    "print(\"y_train shape:\", y_train.shape)\n",
    "print(\"y_test shape:\", y_test.shape)"
   ],
   "metadata": {
    "execution": {
     "iopub.status.busy": "2023-03-08T09:06:44.894984Z",
     "iopub.execute_input": "2023-03-08T09:06:44.895705Z",
     "iopub.status.idle": "2023-03-08T09:06:44.902237Z",
     "shell.execute_reply.started": "2023-03-08T09:06:44.895669Z",
     "shell.execute_reply": "2023-03-08T09:06:44.900681Z"
    },
    "trusted": true,
    "id": "BXQp4lTzC1OK"
   },
   "execution_count": 29,
   "outputs": [
    {
     "name": "stdout",
     "output_type": "stream",
     "text": [
      "X_train shape: (1181, 768)\n",
      "X_test shape: (296, 768)\n",
      "y_train shape: (1181,)\n",
      "y_test shape: (296,)\n"
     ]
    }
   ]
  },
  {
   "cell_type": "markdown",
   "source": [
    "### Train Models and get Scores\n",
    "\n",
    "----"
   ],
   "metadata": {
    "collapsed": false
   }
  },
  {
   "cell_type": "markdown",
   "source": [
    "#### Try... Neural Network"
   ],
   "metadata": {
    "collapsed": false
   }
  },
  {
   "cell_type": "code",
   "execution_count": 30,
   "outputs": [
    {
     "data": {
      "text/plain": "\"import numpy as np\\nfrom keras.models import Sequential\\nfrom keras.layers import Dense, Dropout, Activation\\nfrom keras.preprocessing.text import Tokenizer\\nfrom keras.utils import to_categorical\\nfrom sklearn.datasets import fetch_20newsgroups\\n\\n# load the 20 newsgroups dataset\\nnewsgroups_train = fetch_20newsgroups(subset='train', shuffle=True)\\nnewsgroups_test = fetch_20newsgroups(subset='test', shuffle=True)\\n\\n# convert text to numerical data\\ntokenizer = Tokenizer(num_words=2000)\\ntokenizer.fit_on_texts(newsgroups_train.data)\\nX_train = tokenizer.texts_to_matrix(newsgroups_train.data, mode='tfidf')\\nX_test = tokenizer.texts_to_matrix(newsgroups_test.data, mode='tfidf')\\n\\n# convert labels to categorical data\\nnum_classes = np.max(newsgroups_train.target) + 1\\ny_train = to_categorical(newsgroups_train.target, num_classes)\\ny_test = to_categorical(newsgroups_test.target, num_classes)\\n\\n# define the model architecture\\nmodel = Sequential()\\nmodel.add(Dense(512, input_shape=(2000,)))\\nmodel.add(Activation('relu'))\\nmodel.add(Dropout(0.5))\\nmodel.add(Dense(num_classes))\\nmodel.add(Activation('softmax'))\\n\\n# compile the model\\nmodel.compile(loss='categorical_crossentropy', optimizer='adam', metrics=['accuracy'])\\n\\n# train the model\\n#model.fit(X_train, y_train, batch_size=32, epochs=5, validation_data=(X_test, y_test))\""
     },
     "execution_count": 30,
     "metadata": {},
     "output_type": "execute_result"
    }
   ],
   "source": [
    "\"\"\"import numpy as np\n",
    "from keras.models import Sequential\n",
    "from keras.layers import Dense, Dropout, Activation\n",
    "from keras.preprocessing.text import Tokenizer\n",
    "from keras.utils import to_categorical\n",
    "from sklearn.datasets import fetch_20newsgroups\n",
    "\n",
    "# load the 20 newsgroups dataset\n",
    "newsgroups_train = fetch_20newsgroups(subset='train', shuffle=True)\n",
    "newsgroups_test = fetch_20newsgroups(subset='test', shuffle=True)\n",
    "\n",
    "# convert text to numerical data\n",
    "tokenizer = Tokenizer(num_words=2000)\n",
    "tokenizer.fit_on_texts(newsgroups_train.data)\n",
    "X_train = tokenizer.texts_to_matrix(newsgroups_train.data, mode='tfidf')\n",
    "X_test = tokenizer.texts_to_matrix(newsgroups_test.data, mode='tfidf')\n",
    "\n",
    "# convert labels to categorical data\n",
    "num_classes = np.max(newsgroups_train.target) + 1\n",
    "y_train = to_categorical(newsgroups_train.target, num_classes)\n",
    "y_test = to_categorical(newsgroups_test.target, num_classes)\n",
    "\n",
    "# define the model architecture\n",
    "model = Sequential()\n",
    "model.add(Dense(512, input_shape=(2000,)))\n",
    "model.add(Activation('relu'))\n",
    "model.add(Dropout(0.5))\n",
    "model.add(Dense(num_classes))\n",
    "model.add(Activation('softmax'))\n",
    "\n",
    "# compile the model\n",
    "model.compile(loss='categorical_crossentropy', optimizer='adam', metrics=['accuracy'])\n",
    "\n",
    "# train the model\n",
    "#model.fit(X_train, y_train, batch_size=32, epochs=5, validation_data=(X_test, y_test))\"\"\""
   ],
   "metadata": {
    "collapsed": false
   }
  },
  {
   "cell_type": "code",
   "source": [
    "import csv\n",
    "def model_train(model, X_train, X_test, y_train, y_test):\n",
    "    model.fit(X_train,y_train)\n",
    "    y_pred_tr = model.predict(X_train)\n",
    "    y_pred = model.predict(X_test)\n",
    "    report = classification_report(y_test,y_pred)\n",
    "    recall = report.split()[-2]\n",
    "    print(\"--------------------Training Performance---------------------\")\n",
    "    print(accuracy_score(y_train,y_pred_tr))\n",
    "    print(classification_report(y_train,y_pred_tr))\n",
    "    print(\"-------------------------------------------------------------\")\n",
    "    print(\"--------------------Testing Performance----------------------\")\n",
    "    print(accuracy_score(y_test,y_pred))\n",
    "    print(classification_report(y_test,y_pred))\n",
    "    sns.heatmap(confusion_matrix(y_test, y_pred),cmap='viridis',annot=True,fmt='.4g')\n",
    "    plt.xlabel('Predicted Class')\n",
    "    plt.ylabel('Actual Class')\n",
    "    plt.show()\n",
    "\n",
    "    # Save recall value in a CSV file\n",
    "    model_name = \"bert_\" + model.__class__.__name__\n",
    "    new_recall = recall\n",
    "\n",
    "    # read existing data from csv file\n",
    "    existing_data = []\n",
    "    with open(\"performance.csv\", mode=\"r\") as csv_file:\n",
    "        reader = csv.DictReader(csv_file)\n",
    "        for row in reader:\n",
    "            existing_data.append(row)\n",
    "\n",
    "    # update recall value if modelname already exists\n",
    "    for row in existing_data:\n",
    "        if row[\"Model\"] == model_name:\n",
    "            row[\"Recall\"] = new_recall\n",
    "\n",
    "    # write data back to csv file\n",
    "    with open(\"performance.csv\", mode=\"w\", newline=\"\") as csv_file:\n",
    "        writer = csv.DictWriter(csv_file, fieldnames=[\"Model\", \"Recall\"])\n",
    "        writer.writeheader()\n",
    "        for row in existing_data:\n",
    "            writer.writerow(row)\n",
    "        # write new row if model doesn't exist\n",
    "        if model_name not in [row[\"Model\"] for row in existing_data]:\n",
    "            writer.writerow({\"Model\": model_name, \"Recall\": new_recall})"
   ],
   "metadata": {
    "execution": {
     "iopub.status.busy": "2023-03-08T09:06:48.069063Z",
     "iopub.execute_input": "2023-03-08T09:06:48.069767Z",
     "iopub.status.idle": "2023-03-08T09:06:48.077451Z",
     "shell.execute_reply.started": "2023-03-08T09:06:48.069730Z",
     "shell.execute_reply": "2023-03-08T09:06:48.076100Z"
    },
    "trusted": true,
    "id": "eB0eFrl8C1OK"
   },
   "execution_count": 31,
   "outputs": []
  },
  {
   "cell_type": "markdown",
   "source": [
    "#### Naive Bayes:"
   ],
   "metadata": {
    "id": "tfuKOJNrC1OL"
   }
  },
  {
   "cell_type": "code",
   "source": [
    "modelNB = MultinomialNB()\n",
    "model_train(modelNB, X_train, X_test, y_train, y_test)"
   ],
   "metadata": {
    "execution": {
     "iopub.status.busy": "2023-03-08T08:07:23.062257Z",
     "iopub.execute_input": "2023-03-08T08:07:23.062625Z",
     "iopub.status.idle": "2023-03-08T08:07:24.144923Z",
     "shell.execute_reply.started": "2023-03-08T08:07:23.062594Z",
     "shell.execute_reply": "2023-03-08T08:07:24.143947Z"
    },
    "trusted": true,
    "id": "UzFW6F2_C1OM"
   },
   "execution_count": 32,
   "outputs": [
    {
     "name": "stdout",
     "output_type": "stream",
     "text": [
      "--------------------Training Performance---------------------\n",
      "0.5901778154106689\n",
      "              precision    recall  f1-score   support\n",
      "\n",
      "           0       0.68      0.67      0.68       757\n",
      "           1       0.43      0.45      0.44       424\n",
      "\n",
      "    accuracy                           0.59      1181\n",
      "   macro avg       0.56      0.56      0.56      1181\n",
      "weighted avg       0.59      0.59      0.59      1181\n",
      "\n",
      "-------------------------------------------------------------\n",
      "--------------------Testing Performance----------------------\n",
      "0.6351351351351351\n",
      "              precision    recall  f1-score   support\n",
      "\n",
      "           0       0.74      0.71      0.72       197\n",
      "           1       0.46      0.49      0.48        99\n",
      "\n",
      "    accuracy                           0.64       296\n",
      "   macro avg       0.60      0.60      0.60       296\n",
      "weighted avg       0.64      0.64      0.64       296\n",
      "\n"
     ]
    },
    {
     "data": {
      "text/plain": "<Figure size 640x480 with 2 Axes>",
      "image/png": "[encoded data removed]"
     },
     "metadata": {},
     "output_type": "display_data"
    },
    {
     "ename": "FileNotFoundError",
     "evalue": "[Errno 2] No such file or directory: 'performance.csv'",
     "output_type": "error",
     "traceback": [
      "\u001B[1;31m---------------------------------------------------------------------------\u001B[0m",
      "\u001B[1;31mFileNotFoundError\u001B[0m                         Traceback (most recent call last)",
      "Cell \u001B[1;32mIn[32], line 2\u001B[0m\n\u001B[0;32m      1\u001B[0m modelNB \u001B[38;5;241m=\u001B[39m MultinomialNB()\n\u001B[1;32m----> 2\u001B[0m \u001B[43mmodel_train\u001B[49m\u001B[43m(\u001B[49m\u001B[43mmodelNB\u001B[49m\u001B[43m,\u001B[49m\u001B[43m \u001B[49m\u001B[43mX_train\u001B[49m\u001B[43m,\u001B[49m\u001B[43m \u001B[49m\u001B[43mX_test\u001B[49m\u001B[43m,\u001B[49m\u001B[43m \u001B[49m\u001B[43my_train\u001B[49m\u001B[43m,\u001B[49m\u001B[43m \u001B[49m\u001B[43my_test\u001B[49m\u001B[43m)\u001B[49m\n",
      "Cell \u001B[1;32mIn[31], line 26\u001B[0m, in \u001B[0;36mmodel_train\u001B[1;34m(model, X_train, X_test, y_train, y_test)\u001B[0m\n\u001B[0;32m     24\u001B[0m \u001B[38;5;66;03m# read existing data from csv file\u001B[39;00m\n\u001B[0;32m     25\u001B[0m existing_data \u001B[38;5;241m=\u001B[39m []\n\u001B[1;32m---> 26\u001B[0m \u001B[38;5;28;01mwith\u001B[39;00m \u001B[38;5;28;43mopen\u001B[39;49m\u001B[43m(\u001B[49m\u001B[38;5;124;43m\"\u001B[39;49m\u001B[38;5;124;43mperformance.csv\u001B[39;49m\u001B[38;5;124;43m\"\u001B[39;49m\u001B[43m,\u001B[49m\u001B[43m \u001B[49m\u001B[43mmode\u001B[49m\u001B[38;5;241;43m=\u001B[39;49m\u001B[38;5;124;43m\"\u001B[39;49m\u001B[38;5;124;43mr\u001B[39;49m\u001B[38;5;124;43m\"\u001B[39;49m\u001B[43m)\u001B[49m \u001B[38;5;28;01mas\u001B[39;00m csv_file:\n\u001B[0;32m     27\u001B[0m     reader \u001B[38;5;241m=\u001B[39m csv\u001B[38;5;241m.\u001B[39mDictReader(csv_file)\n\u001B[0;32m     28\u001B[0m     \u001B[38;5;28;01mfor\u001B[39;00m row \u001B[38;5;129;01min\u001B[39;00m reader:\n",
      "File \u001B[1;32m~\\Documents\\nlp_p2\\venv\\lib\\site-packages\\IPython\\core\\interactiveshell.py:282\u001B[0m, in \u001B[0;36m_modified_open\u001B[1;34m(file, *args, **kwargs)\u001B[0m\n\u001B[0;32m    275\u001B[0m \u001B[38;5;28;01mif\u001B[39;00m file \u001B[38;5;129;01min\u001B[39;00m {\u001B[38;5;241m0\u001B[39m, \u001B[38;5;241m1\u001B[39m, \u001B[38;5;241m2\u001B[39m}:\n\u001B[0;32m    276\u001B[0m     \u001B[38;5;28;01mraise\u001B[39;00m \u001B[38;5;167;01mValueError\u001B[39;00m(\n\u001B[0;32m    277\u001B[0m         \u001B[38;5;124mf\u001B[39m\u001B[38;5;124m\"\u001B[39m\u001B[38;5;124mIPython won\u001B[39m\u001B[38;5;124m'\u001B[39m\u001B[38;5;124mt let you open fd=\u001B[39m\u001B[38;5;132;01m{\u001B[39;00mfile\u001B[38;5;132;01m}\u001B[39;00m\u001B[38;5;124m by default \u001B[39m\u001B[38;5;124m\"\u001B[39m\n\u001B[0;32m    278\u001B[0m         \u001B[38;5;124m\"\u001B[39m\u001B[38;5;124mas it is likely to crash IPython. If you know what you are doing, \u001B[39m\u001B[38;5;124m\"\u001B[39m\n\u001B[0;32m    279\u001B[0m         \u001B[38;5;124m\"\u001B[39m\u001B[38;5;124myou can use builtins\u001B[39m\u001B[38;5;124m'\u001B[39m\u001B[38;5;124m open.\u001B[39m\u001B[38;5;124m\"\u001B[39m\n\u001B[0;32m    280\u001B[0m     )\n\u001B[1;32m--> 282\u001B[0m \u001B[38;5;28;01mreturn\u001B[39;00m io_open(file, \u001B[38;5;241m*\u001B[39margs, \u001B[38;5;241m*\u001B[39m\u001B[38;5;241m*\u001B[39mkwargs)\n",
      "\u001B[1;31mFileNotFoundError\u001B[0m: [Errno 2] No such file or directory: 'performance.csv'"
     ]
    }
   ]
  },
  {
   "cell_type": "markdown",
   "source": [
    "#### Support Vector Machine"
   ],
   "metadata": {
    "collapsed": false
   }
  },
  {
   "cell_type": "code",
   "execution_count": null,
   "outputs": [],
   "source": [
    "if SET_SVM_active:\n",
    "    from sklearn.svm import SVC\n",
    "    modelSVM = SVC()\n",
    "    model_train(modelSVM, X_train, X_test, y_train, y_test)"
   ],
   "metadata": {
    "collapsed": false
   }
  },
  {
   "cell_type": "markdown",
   "source": [
    "#### Logistic Regression (Best Model) :"
   ],
   "metadata": {
    "id": "eR4604KRC1OM"
   }
  },
  {
   "cell_type": "code",
   "source": [
    "modelLR = LogisticRegression(max_iter=1000)\n",
    "model_train(modelLR, X_train, X_test, y_train, y_test)"
   ],
   "metadata": {
    "execution": {
     "iopub.status.busy": "2023-03-08T08:09:56.827671Z",
     "iopub.execute_input": "2023-03-08T08:09:56.828070Z",
     "iopub.status.idle": "2023-03-08T08:11:11.443944Z",
     "shell.execute_reply.started": "2023-03-08T08:09:56.828032Z",
     "shell.execute_reply": "2023-03-08T08:11:11.442942Z"
    },
    "trusted": true,
    "id": "KkkTCParC1OM"
   },
   "execution_count": null,
   "outputs": []
  },
  {
   "cell_type": "markdown",
   "source": [
    "#### Random forest:"
   ],
   "metadata": {
    "id": "bEGUQQvkC1OM"
   }
  },
  {
   "cell_type": "code",
   "source": [
    "model = RandomForestClassifier(n_estimators=100,max_depth=15,max_features='sqrt')\n",
    "model_train(model, X_train, X_test, y_train, y_test)"
   ],
   "metadata": {
    "execution": {
     "iopub.status.busy": "2023-03-08T08:20:13.896081Z",
     "iopub.execute_input": "2023-03-08T08:20:13.896506Z",
     "iopub.status.idle": "2023-03-08T08:20:37.522992Z",
     "shell.execute_reply.started": "2023-03-08T08:20:13.896471Z",
     "shell.execute_reply": "2023-03-08T08:20:37.521949Z"
    },
    "trusted": true,
    "id": "2mjAK3ZTC1ON"
   },
   "execution_count": null,
   "outputs": []
  },
  {
   "cell_type": "code",
   "source": [
    "print(\"finished\")"
   ],
   "metadata": {
    "id": "A7KILiHlC1ON"
   },
   "execution_count": null,
   "outputs": []
  }
 ]
}
