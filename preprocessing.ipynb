{
 "metadata": {
  "kernelspec": {
   "language": "python",
   "display_name": "Python 3",
   "name": "python3"
  },
  "language_info": {
   "name": "python",
   "version": "3.7.12",
   "mimetype": "text/x-python",
   "codemirror_mode": {
    "name": "ipython",
    "version": 3
   },
   "pygments_lexer": "ipython3",
   "nbconvert_exporter": "python",
   "file_extension": ".py"
  },
  "colab": {
   "provenance": []
  }
 },
 "nbformat_minor": 0,
 "nbformat": 4,
 "cells": [
  {
   "cell_type": "code",
   "source": [
    "import numpy as np \n",
    "import pandas as pd \n",
    "import os\n",
    "import matplotlib.pyplot as plt \n",
    "import seaborn as sns\n",
    "import re\n",
    "import nltk\n",
    "from nltk.corpus import stopwords\n",
    "from tqdm import tqdm\n",
    "from nltk.stem import WordNetLemmatizer\n",
    "import spacy\n",
    "\n",
    "tqdm.pandas()\n",
    "#spacy_eng = spacy.load(\"en_core_web_sm\")\n",
    "lemm = WordNetLemmatizer()\n",
    "sns.set_style(\"darkgrid\")\n",
    "plt.rcParams['figure.figsize'] = (16,6)\n",
    "plt.rcParams['font.size'] = 16\n",
    "nltk.download('stopwords')\n",
    "nltk.download('wordnet')"
   ],
   "metadata": {
    "execution": {
     "iopub.status.busy": "2023-03-08T07:43:16.848485Z",
     "iopub.execute_input": "2023-03-08T07:43:16.849275Z",
     "iopub.status.idle": "2023-03-08T07:43:17.438803Z",
     "shell.execute_reply.started": "2023-03-08T07:43:16.849231Z",
     "shell.execute_reply": "2023-03-08T07:43:17.437717Z"
    },
    "trusted": true,
    "colab": {
     "base_uri": "https://localhost:8080/"
    },
    "id": "KfFKv5eDC1N_",
    "executionInfo": {
     "status": "ok",
     "timestamp": 1679570903268,
     "user_tz": -60,
     "elapsed": 12093,
     "user": {
      "displayName": "Alessio Drigatti",
      "userId": "07215250769544148907"
     }
    },
    "outputId": "82cb0ec2-6d2c-40fb-aa8b-401b65eb8de6"
   },
   "execution_count": 1,
   "outputs": [
    {
     "name": "stderr",
     "output_type": "stream",
     "text": [
      "[nltk_data] Downloading package stopwords to C:\\Users\\Lea\n",
      "[nltk_data]     Keller\\AppData\\Roaming\\nltk_data...\n",
      "[nltk_data]   Package stopwords is already up-to-date!\n",
      "[nltk_data] Downloading package wordnet to C:\\Users\\Lea\n",
      "[nltk_data]     Keller\\AppData\\Roaming\\nltk_data...\n",
      "[nltk_data]   Package wordnet is already up-to-date!\n"
     ]
    },
    {
     "data": {
      "text/plain": "True"
     },
     "execution_count": 1,
     "metadata": {},
     "output_type": "execute_result"
    }
   ]
  },
  {
   "cell_type": "code",
   "source": [
    "df = pd.read_json(\"data.json\", orient=\"columns\")\n",
    "df.head(100)"
   ],
   "metadata": {
    "execution": {
     "iopub.status.busy": "2023-03-08T09:05:28.560746Z",
     "iopub.execute_input": "2023-03-08T09:05:28.561268Z",
     "iopub.status.idle": "2023-03-08T09:05:28.709086Z",
     "shell.execute_reply.started": "2023-03-08T09:05:28.561230Z",
     "shell.execute_reply": "2023-03-08T09:05:28.708055Z"
    },
    "trusted": true,
    "colab": {
     "base_uri": "https://localhost:8080/",
     "height": 424
    },
    "id": "RRPCZEv1C1OA",
    "outputId": "a97aafbc-f257-4774-a48b-dba880415cef",
    "executionInfo": {
     "status": "ok",
     "timestamp": 1679570906367,
     "user_tz": -60,
     "elapsed": 3102,
     "user": {
      "displayName": "Alessio Drigatti",
      "userId": "07215250769544148907"
     }
    }
   },
   "execution_count": 2,
   "outputs": [
    {
     "data": {
      "text/plain": "                                         comment_text  toxic\n0   U created Requests for Scholarlyarticles is aw...      1\n1   in looking at the LGBT professions categories ...      1\n2   New York City regulation Regarding the removal...      0\n3   Thank you for the speedy rollback Would you be...      1\n4   If you want to talk about this stuff Then   pe...      0\n..                                                ...    ...\n95  A barnstar for you The Modest Barnstar You are...      0\n96                          So what can be done about      0\n97  Funny that you call what the source says as Ex...      0\n98  Congratulations! I am happy to see that your R...      0\n99  believe it is original research to say that si...      0\n\n[100 rows x 2 columns]",
      "text/html": "<div>\n<style scoped>\n    .dataframe tbody tr th:only-of-type {\n        vertical-align: middle;\n    }\n\n    .dataframe tbody tr th {\n        vertical-align: top;\n    }\n\n    .dataframe thead th {\n        text-align: right;\n    }\n</style>\n<table border=\"1\" class=\"dataframe\">\n  <thead>\n    <tr style=\"text-align: right;\">\n      <th></th>\n      <th>comment_text</th>\n      <th>toxic</th>\n    </tr>\n  </thead>\n  <tbody>\n    <tr>\n      <th>0</th>\n      <td>U created Requests for Scholarlyarticles is aw...</td>\n      <td>1</td>\n    </tr>\n    <tr>\n      <th>1</th>\n      <td>in looking at the LGBT professions categories ...</td>\n      <td>1</td>\n    </tr>\n    <tr>\n      <th>2</th>\n      <td>New York City regulation Regarding the removal...</td>\n      <td>0</td>\n    </tr>\n    <tr>\n      <th>3</th>\n      <td>Thank you for the speedy rollback Would you be...</td>\n      <td>1</td>\n    </tr>\n    <tr>\n      <th>4</th>\n      <td>If you want to talk about this stuff Then   pe...</td>\n      <td>0</td>\n    </tr>\n    <tr>\n      <th>...</th>\n      <td>...</td>\n      <td>...</td>\n    </tr>\n    <tr>\n      <th>95</th>\n      <td>A barnstar for you The Modest Barnstar You are...</td>\n      <td>0</td>\n    </tr>\n    <tr>\n      <th>96</th>\n      <td>So what can be done about</td>\n      <td>0</td>\n    </tr>\n    <tr>\n      <th>97</th>\n      <td>Funny that you call what the source says as Ex...</td>\n      <td>0</td>\n    </tr>\n    <tr>\n      <th>98</th>\n      <td>Congratulations! I am happy to see that your R...</td>\n      <td>0</td>\n    </tr>\n    <tr>\n      <th>99</th>\n      <td>believe it is original research to say that si...</td>\n      <td>0</td>\n    </tr>\n  </tbody>\n</table>\n<p>100 rows × 2 columns</p>\n</div>"
     },
     "execution_count": 2,
     "metadata": {},
     "output_type": "execute_result"
    }
   ]
  },
  {
   "cell_type": "code",
   "source": [
    "df[\"comment_text\"] = df[\"comment_text\"].str.lower()\n",
    "df.head()"
   ],
   "metadata": {
    "execution": {
     "iopub.status.busy": "2023-03-08T09:05:31.040473Z",
     "iopub.execute_input": "2023-03-08T09:05:31.040880Z",
     "iopub.status.idle": "2023-03-08T09:05:31.085394Z",
     "shell.execute_reply.started": "2023-03-08T09:05:31.040840Z",
     "shell.execute_reply": "2023-03-08T09:05:31.084418Z"
    },
    "trusted": true,
    "id": "bimLp7J8C1OF",
    "colab": {
     "base_uri": "https://localhost:8080/",
     "height": 206
    },
    "executionInfo": {
     "status": "ok",
     "timestamp": 1679570908379,
     "user_tz": -60,
     "elapsed": 2014,
     "user": {
      "displayName": "Alessio Drigatti",
      "userId": "07215250769544148907"
     }
    },
    "outputId": "b90409eb-4ab1-46e9-dcf5-492fabffcd20"
   },
   "execution_count": 3,
   "outputs": [
    {
     "data": {
      "text/plain": "                                        comment_text  toxic\n0  u created requests for scholarlyarticles is aw...      1\n1  in looking at the lgbt professions categories ...      1\n2  new york city regulation regarding the removal...      0\n3  thank you for the speedy rollback would you be...      1\n4  if you want to talk about this stuff then   pe...      0",
      "text/html": "<div>\n<style scoped>\n    .dataframe tbody tr th:only-of-type {\n        vertical-align: middle;\n    }\n\n    .dataframe tbody tr th {\n        vertical-align: top;\n    }\n\n    .dataframe thead th {\n        text-align: right;\n    }\n</style>\n<table border=\"1\" class=\"dataframe\">\n  <thead>\n    <tr style=\"text-align: right;\">\n      <th></th>\n      <th>comment_text</th>\n      <th>toxic</th>\n    </tr>\n  </thead>\n  <tbody>\n    <tr>\n      <th>0</th>\n      <td>u created requests for scholarlyarticles is aw...</td>\n      <td>1</td>\n    </tr>\n    <tr>\n      <th>1</th>\n      <td>in looking at the lgbt professions categories ...</td>\n      <td>1</td>\n    </tr>\n    <tr>\n      <th>2</th>\n      <td>new york city regulation regarding the removal...</td>\n      <td>0</td>\n    </tr>\n    <tr>\n      <th>3</th>\n      <td>thank you for the speedy rollback would you be...</td>\n      <td>1</td>\n    </tr>\n    <tr>\n      <th>4</th>\n      <td>if you want to talk about this stuff then   pe...</td>\n      <td>0</td>\n    </tr>\n  </tbody>\n</table>\n</div>"
     },
     "execution_count": 3,
     "metadata": {},
     "output_type": "execute_result"
    }
   ]
  },
  {
   "cell_type": "code",
   "source": [
    "#remove stopwords\n",
    "from nltk.corpus import stopwords\n",
    "stop_words = set(stopwords.words('english'))\n",
    "\n",
    "def remove_stopwords(text):\n",
    "    return \" \".join([word for word in str(text).split() if word not in stop_words])\n",
    "\n",
    "df[\"comment_text\"] = df[\"comment_text\"].apply(lambda x: remove_stopwords(x))"
   ],
   "metadata": {
    "execution": {
     "iopub.status.busy": "2023-03-08T09:05:32.623726Z",
     "iopub.execute_input": "2023-03-08T09:05:32.624450Z",
     "iopub.status.idle": "2023-03-08T09:05:32.894406Z",
     "shell.execute_reply.started": "2023-03-08T09:05:32.624403Z",
     "shell.execute_reply": "2023-03-08T09:05:32.893298Z"
    },
    "trusted": true,
    "id": "_0zb6cAGC1OG",
    "executionInfo": {
     "status": "ok",
     "timestamp": 1679570911991,
     "user_tz": -60,
     "elapsed": 3616,
     "user": {
      "displayName": "Alessio Drigatti",
      "userId": "07215250769544148907"
     }
    }
   },
   "execution_count": 4,
   "outputs": []
  },
  {
   "cell_type": "code",
   "source": [
    "df"
   ],
   "metadata": {
    "id": "5a2nPJhtGMPz",
    "colab": {
     "base_uri": "https://localhost:8080/",
     "height": 424
    },
    "executionInfo": {
     "status": "ok",
     "timestamp": 1679570911991,
     "user_tz": -60,
     "elapsed": 7,
     "user": {
      "displayName": "Alessio Drigatti",
      "userId": "07215250769544148907"
     }
    },
    "outputId": "0b9e5e90-1bf8-4176-bb67-9d50336eefe5"
   },
   "execution_count": 5,
   "outputs": [
    {
     "data": {
      "text/plain": "                                             comment_text  toxic\n0       u created requests scholarlyarticles awaiting ...      1\n1       looking lgbt professions categories point get ...      1\n2       new york city regulation regarding removal, , ...      0\n3       thank speedy rollback would believe first time...      1\n4       want talk stuff perfectly willing refer commen...      0\n...                                                   ...    ...\n312730  partido name partidos buenos aires province wi...      1\n312731  little doubt hi matthew, long time new doubt, ...      0\n312732  accor hello, new accor logo september changed ...      0\n312733  wondering ehuangzhang d00d simply based appear...      0\n312734  qkd, many experiments involve photon travellin...      1\n\n[312735 rows x 2 columns]",
      "text/html": "<div>\n<style scoped>\n    .dataframe tbody tr th:only-of-type {\n        vertical-align: middle;\n    }\n\n    .dataframe tbody tr th {\n        vertical-align: top;\n    }\n\n    .dataframe thead th {\n        text-align: right;\n    }\n</style>\n<table border=\"1\" class=\"dataframe\">\n  <thead>\n    <tr style=\"text-align: right;\">\n      <th></th>\n      <th>comment_text</th>\n      <th>toxic</th>\n    </tr>\n  </thead>\n  <tbody>\n    <tr>\n      <th>0</th>\n      <td>u created requests scholarlyarticles awaiting ...</td>\n      <td>1</td>\n    </tr>\n    <tr>\n      <th>1</th>\n      <td>looking lgbt professions categories point get ...</td>\n      <td>1</td>\n    </tr>\n    <tr>\n      <th>2</th>\n      <td>new york city regulation regarding removal, , ...</td>\n      <td>0</td>\n    </tr>\n    <tr>\n      <th>3</th>\n      <td>thank speedy rollback would believe first time...</td>\n      <td>1</td>\n    </tr>\n    <tr>\n      <th>4</th>\n      <td>want talk stuff perfectly willing refer commen...</td>\n      <td>0</td>\n    </tr>\n    <tr>\n      <th>...</th>\n      <td>...</td>\n      <td>...</td>\n    </tr>\n    <tr>\n      <th>312730</th>\n      <td>partido name partidos buenos aires province wi...</td>\n      <td>1</td>\n    </tr>\n    <tr>\n      <th>312731</th>\n      <td>little doubt hi matthew, long time new doubt, ...</td>\n      <td>0</td>\n    </tr>\n    <tr>\n      <th>312732</th>\n      <td>accor hello, new accor logo september changed ...</td>\n      <td>0</td>\n    </tr>\n    <tr>\n      <th>312733</th>\n      <td>wondering ehuangzhang d00d simply based appear...</td>\n      <td>0</td>\n    </tr>\n    <tr>\n      <th>312734</th>\n      <td>qkd, many experiments involve photon travellin...</td>\n      <td>1</td>\n    </tr>\n  </tbody>\n</table>\n<p>312735 rows × 2 columns</p>\n</div>"
     },
     "execution_count": 5,
     "metadata": {},
     "output_type": "execute_result"
    }
   ]
  },
  {
   "cell_type": "code",
   "execution_count": 6,
   "outputs": [],
   "source": [
    "from nltk.tokenize import RegexpTokenizer\n",
    "df[\"comment_text\"] = df[\"comment_text\"].apply(lambda x: \"\".join(RegexpTokenizer(r\"[a-zA-Z0-9]+ \").tokenize(x)))"
   ],
   "metadata": {
    "collapsed": false
   }
  },
  {
   "cell_type": "code",
   "source": [
    "lemmatizer = WordNetLemmatizer()\n",
    "\n",
    "def lemmatize(text):\n",
    "    return \" \".join([lemmatizer.lemmatize(word) for word in text.split()])\n",
    "\n",
    "df[\"comment_text\"] = df[\"comment_text\"].apply(lambda x: lemmatize(x))\n",
    "df"
   ],
   "metadata": {
    "execution": {
     "iopub.status.busy": "2023-03-08T09:05:32.897151Z",
     "iopub.execute_input": "2023-03-08T09:05:32.897436Z",
     "iopub.status.idle": "2023-03-08T09:05:32.990948Z",
     "shell.execute_reply.started": "2023-03-08T09:05:32.897410Z",
     "shell.execute_reply": "2023-03-08T09:05:32.989221Z"
    },
    "trusted": true,
    "id": "FoYoSvVbC1OG",
    "colab": {
     "base_uri": "https://localhost:8080/",
     "height": 424
    },
    "executionInfo": {
     "status": "ok",
     "timestamp": 1679570956348,
     "user_tz": -60,
     "elapsed": 44361,
     "user": {
      "displayName": "Alessio Drigatti",
      "userId": "07215250769544148907"
     }
    },
    "outputId": "b49c2f33-dd74-4d06-eefd-747b0ee2a67d"
   },
   "execution_count": 7,
   "outputs": [
    {
     "data": {
      "text/plain": "                                             comment_text  toxic\n0       u created request scholarlyarticles awaiting c...      1\n1       looking lgbt profession category point get beh...      1\n2       new york city regulation regarding apparently ...      0\n3       thank speedy rollback would believe first time...      1\n4       want talk stuff perfectly willing refer commen...      0\n...                                                   ...    ...\n312730  partido name partidos buenos aire province wik...      1\n312731  little doubt hi long time new would like know ...      0\n312732  accor new accor logo september changed french ...      0\n312733  wondering ehuangzhang d00d simply based appear...      0\n312734          many experiment involve photon travelling      1\n\n[312735 rows x 2 columns]",
      "text/html": "<div>\n<style scoped>\n    .dataframe tbody tr th:only-of-type {\n        vertical-align: middle;\n    }\n\n    .dataframe tbody tr th {\n        vertical-align: top;\n    }\n\n    .dataframe thead th {\n        text-align: right;\n    }\n</style>\n<table border=\"1\" class=\"dataframe\">\n  <thead>\n    <tr style=\"text-align: right;\">\n      <th></th>\n      <th>comment_text</th>\n      <th>toxic</th>\n    </tr>\n  </thead>\n  <tbody>\n    <tr>\n      <th>0</th>\n      <td>u created request scholarlyarticles awaiting c...</td>\n      <td>1</td>\n    </tr>\n    <tr>\n      <th>1</th>\n      <td>looking lgbt profession category point get beh...</td>\n      <td>1</td>\n    </tr>\n    <tr>\n      <th>2</th>\n      <td>new york city regulation regarding apparently ...</td>\n      <td>0</td>\n    </tr>\n    <tr>\n      <th>3</th>\n      <td>thank speedy rollback would believe first time...</td>\n      <td>1</td>\n    </tr>\n    <tr>\n      <th>4</th>\n      <td>want talk stuff perfectly willing refer commen...</td>\n      <td>0</td>\n    </tr>\n    <tr>\n      <th>...</th>\n      <td>...</td>\n      <td>...</td>\n    </tr>\n    <tr>\n      <th>312730</th>\n      <td>partido name partidos buenos aire province wik...</td>\n      <td>1</td>\n    </tr>\n    <tr>\n      <th>312731</th>\n      <td>little doubt hi long time new would like know ...</td>\n      <td>0</td>\n    </tr>\n    <tr>\n      <th>312732</th>\n      <td>accor new accor logo september changed french ...</td>\n      <td>0</td>\n    </tr>\n    <tr>\n      <th>312733</th>\n      <td>wondering ehuangzhang d00d simply based appear...</td>\n      <td>0</td>\n    </tr>\n    <tr>\n      <th>312734</th>\n      <td>many experiment involve photon travelling</td>\n      <td>1</td>\n    </tr>\n  </tbody>\n</table>\n<p>312735 rows × 2 columns</p>\n</div>"
     },
     "execution_count": 7,
     "metadata": {},
     "output_type": "execute_result"
    }
   ]
  },
  {
   "cell_type": "code",
   "source": [
    "df[\"comment_text\"] = df[\"comment_text\"].str.strip()"
   ],
   "metadata": {
    "execution": {
     "iopub.status.busy": "2023-03-08T09:05:33.486547Z",
     "iopub.execute_input": "2023-03-08T09:05:33.487518Z",
     "iopub.status.idle": "2023-03-08T09:05:33.512860Z",
     "shell.execute_reply.started": "2023-03-08T09:05:33.487466Z",
     "shell.execute_reply": "2023-03-08T09:05:33.511897Z"
    },
    "trusted": true,
    "id": "y9vLPvrbC1OG",
    "executionInfo": {
     "status": "ok",
     "timestamp": 1679570956348,
     "user_tz": -60,
     "elapsed": 19,
     "user": {
      "displayName": "Alessio Drigatti",
      "userId": "07215250769544148907"
     }
    }
   },
   "execution_count": 8,
   "outputs": []
  },
  {
   "cell_type": "code",
   "source": [
    "df"
   ],
   "metadata": {
    "execution": {
     "iopub.status.busy": "2023-03-08T09:05:33.587018Z",
     "iopub.execute_input": "2023-03-08T09:05:33.587472Z",
     "iopub.status.idle": "2023-03-08T09:05:33.600901Z",
     "shell.execute_reply.started": "2023-03-08T09:05:33.587441Z",
     "shell.execute_reply": "2023-03-08T09:05:33.599676Z"
    },
    "trusted": true,
    "id": "rLsWLGAcC1OH",
    "colab": {
     "base_uri": "https://localhost:8080/",
     "height": 424
    },
    "executionInfo": {
     "status": "ok",
     "timestamp": 1679570956349,
     "user_tz": -60,
     "elapsed": 19,
     "user": {
      "displayName": "Alessio Drigatti",
      "userId": "07215250769544148907"
     }
    },
    "outputId": "1f9ff6df-d597-455a-c467-da0ea88c846a"
   },
   "execution_count": 9,
   "outputs": [
    {
     "data": {
      "text/plain": "                                             comment_text  toxic\n0       u created request scholarlyarticles awaiting c...      1\n1       looking lgbt profession category point get beh...      1\n2       new york city regulation regarding apparently ...      0\n3       thank speedy rollback would believe first time...      1\n4       want talk stuff perfectly willing refer commen...      0\n...                                                   ...    ...\n312730  partido name partidos buenos aire province wik...      1\n312731  little doubt hi long time new would like know ...      0\n312732  accor new accor logo september changed french ...      0\n312733  wondering ehuangzhang d00d simply based appear...      0\n312734          many experiment involve photon travelling      1\n\n[312735 rows x 2 columns]",
      "text/html": "<div>\n<style scoped>\n    .dataframe tbody tr th:only-of-type {\n        vertical-align: middle;\n    }\n\n    .dataframe tbody tr th {\n        vertical-align: top;\n    }\n\n    .dataframe thead th {\n        text-align: right;\n    }\n</style>\n<table border=\"1\" class=\"dataframe\">\n  <thead>\n    <tr style=\"text-align: right;\">\n      <th></th>\n      <th>comment_text</th>\n      <th>toxic</th>\n    </tr>\n  </thead>\n  <tbody>\n    <tr>\n      <th>0</th>\n      <td>u created request scholarlyarticles awaiting c...</td>\n      <td>1</td>\n    </tr>\n    <tr>\n      <th>1</th>\n      <td>looking lgbt profession category point get beh...</td>\n      <td>1</td>\n    </tr>\n    <tr>\n      <th>2</th>\n      <td>new york city regulation regarding apparently ...</td>\n      <td>0</td>\n    </tr>\n    <tr>\n      <th>3</th>\n      <td>thank speedy rollback would believe first time...</td>\n      <td>1</td>\n    </tr>\n    <tr>\n      <th>4</th>\n      <td>want talk stuff perfectly willing refer commen...</td>\n      <td>0</td>\n    </tr>\n    <tr>\n      <th>...</th>\n      <td>...</td>\n      <td>...</td>\n    </tr>\n    <tr>\n      <th>312730</th>\n      <td>partido name partidos buenos aire province wik...</td>\n      <td>1</td>\n    </tr>\n    <tr>\n      <th>312731</th>\n      <td>little doubt hi long time new would like know ...</td>\n      <td>0</td>\n    </tr>\n    <tr>\n      <th>312732</th>\n      <td>accor new accor logo september changed french ...</td>\n      <td>0</td>\n    </tr>\n    <tr>\n      <th>312733</th>\n      <td>wondering ehuangzhang d00d simply based appear...</td>\n      <td>0</td>\n    </tr>\n    <tr>\n      <th>312734</th>\n      <td>many experiment involve photon travelling</td>\n      <td>1</td>\n    </tr>\n  </tbody>\n</table>\n<p>312735 rows × 2 columns</p>\n</div>"
     },
     "execution_count": 9,
     "metadata": {},
     "output_type": "execute_result"
    }
   ]
  },
  {
   "cell_type": "code",
   "source": [
    "df.isna().sum()"
   ],
   "metadata": {
    "execution": {
     "iopub.status.busy": "2023-03-08T09:05:36.570790Z",
     "iopub.execute_input": "2023-03-08T09:05:36.571574Z",
     "iopub.status.idle": "2023-03-08T09:05:36.587165Z",
     "shell.execute_reply.started": "2023-03-08T09:05:36.571532Z",
     "shell.execute_reply": "2023-03-08T09:05:36.585883Z"
    },
    "trusted": true,
    "id": "p6buAYBFC1OH",
    "colab": {
     "base_uri": "https://localhost:8080/"
    },
    "executionInfo": {
     "status": "ok",
     "timestamp": 1679570956349,
     "user_tz": -60,
     "elapsed": 18,
     "user": {
      "displayName": "Alessio Drigatti",
      "userId": "07215250769544148907"
     }
    },
    "outputId": "04c9a15f-5b47-4a45-d94b-bcee17caff2d"
   },
   "execution_count": 10,
   "outputs": [
    {
     "data": {
      "text/plain": "comment_text    0\ntoxic           0\ndtype: int64"
     },
     "execution_count": 10,
     "metadata": {},
     "output_type": "execute_result"
    }
   ]
  },
  {
   "cell_type": "code",
   "source": [
    "sns.countplot(data=df,y='toxic')\n",
    "plt.title(\"Class Count Distribution\")\n",
    "plt.show()"
   ],
   "metadata": {
    "execution": {
     "iopub.status.busy": "2023-03-08T09:05:36.604860Z",
     "iopub.execute_input": "2023-03-08T09:05:36.605680Z",
     "iopub.status.idle": "2023-03-08T09:05:36.925310Z",
     "shell.execute_reply.started": "2023-03-08T09:05:36.605637Z",
     "shell.execute_reply": "2023-03-08T09:05:36.924029Z"
    },
    "trusted": true,
    "id": "b0WHRT71C1OH",
    "colab": {
     "base_uri": "https://localhost:8080/",
     "height": 405
    },
    "executionInfo": {
     "status": "ok",
     "timestamp": 1679570956350,
     "user_tz": -60,
     "elapsed": 15,
     "user": {
      "displayName": "Alessio Drigatti",
      "userId": "07215250769544148907"
     }
    },
    "outputId": "974ef544-fcad-4e34-d727-9c9ae94859c5"
   },
   "execution_count": 11,
   "outputs": [
    {
     "data": {
      "text/plain": "<Figure size 1600x600 with 1 Axes>",
      "image/png": "[encoded data removed]"
     },
     "metadata": {},
     "output_type": "display_data"
    }
   ]
  },
  {
   "cell_type": "code",
   "source": [
    "df['sentence_lengths'] = df['comment_text'].progress_apply(lambda x: len(x.split()))"
   ],
   "metadata": {
    "colab": {
     "base_uri": "https://localhost:8080/"
    },
    "id": "8Rz41HeMM8Ey",
    "executionInfo": {
     "status": "ok",
     "timestamp": 1679570956720,
     "user_tz": -60,
     "elapsed": 384,
     "user": {
      "displayName": "Alessio Drigatti",
      "userId": "07215250769544148907"
     }
    },
    "outputId": "b52a3f41-5c84-4060-d1ca-de2f3dc94c81"
   },
   "execution_count": 12,
   "outputs": [
    {
     "name": "stderr",
     "output_type": "stream",
     "text": [
      "100%|██████████| 312735/312735 [00:01<00:00, 244023.83it/s]\n"
     ]
    }
   ]
  },
  {
   "cell_type": "code",
   "source": [
    "sns.histplot(data=df,x='sentence_lengths',hue='toxic',bins=10, element='bars')\n",
    "plt.title(\"Sentence Lengths Distribution\")\n",
    "plt.show()\n"
   ],
   "metadata": {
    "execution": {
     "iopub.status.busy": "2023-03-08T09:05:53.679680Z",
     "iopub.execute_input": "2023-03-08T09:05:53.680309Z",
     "iopub.status.idle": "2023-03-08T09:05:54.086646Z",
     "shell.execute_reply.started": "2023-03-08T09:05:53.680270Z",
     "shell.execute_reply": "2023-03-08T09:05:54.085637Z"
    },
    "trusted": true,
    "colab": {
     "base_uri": "https://localhost:8080/",
     "height": 386
    },
    "id": "fwthX59pC1OJ",
    "executionInfo": {
     "status": "ok",
     "timestamp": 1679570958781,
     "user_tz": -60,
     "elapsed": 2063,
     "user": {
      "displayName": "Alessio Drigatti",
      "userId": "07215250769544148907"
     }
    },
    "outputId": "154baabf-8740-4646-8fc0-6c04de875b76"
   },
   "execution_count": 13,
   "outputs": [
    {
     "data": {
      "text/plain": "<Figure size 1600x600 with 1 Axes>",
      "image/png": "[encoded data removed]"
     },
     "metadata": {},
     "output_type": "display_data"
    }
   ]
  },
  {
   "cell_type": "code",
   "source": [
    "df[\"sentence_lengths\"].describe()"
   ],
   "metadata": {
    "execution": {
     "iopub.status.busy": "2023-03-08T09:05:54.089716Z",
     "iopub.execute_input": "2023-03-08T09:05:54.090163Z",
     "iopub.status.idle": "2023-03-08T09:05:54.105082Z",
     "shell.execute_reply.started": "2023-03-08T09:05:54.090124Z",
     "shell.execute_reply": "2023-03-08T09:05:54.103945Z"
    },
    "trusted": true,
    "colab": {
     "base_uri": "https://localhost:8080/"
    },
    "id": "ZcroHHLcC1OJ",
    "executionInfo": {
     "status": "ok",
     "timestamp": 1679570958782,
     "user_tz": -60,
     "elapsed": 6,
     "user": {
      "displayName": "Alessio Drigatti",
      "userId": "07215250769544148907"
     }
    },
    "outputId": "4467f87d-2d38-4443-aa66-c1d2ef2d725f"
   },
   "execution_count": 14,
   "outputs": [
    {
     "data": {
      "text/plain": "count    312735.000000\nmean         24.834425\nstd          45.047428\nmin           0.000000\n25%           5.000000\n50%          12.000000\n75%          27.000000\nmax        1425.000000\nName: sentence_lengths, dtype: float64"
     },
     "execution_count": 14,
     "metadata": {},
     "output_type": "execute_result"
    }
   ]
  },
  {
   "cell_type": "code",
   "source": [
    "df.to_json(\"data_pp.json\", orient=\"columns\")"
   ],
   "metadata": {
    "execution": {
     "iopub.status.busy": "2023-03-08T09:05:54.129435Z",
     "iopub.execute_input": "2023-03-08T09:05:54.129815Z",
     "iopub.status.idle": "2023-03-08T09:05:54.144156Z",
     "shell.execute_reply.started": "2023-03-08T09:05:54.129779Z",
     "shell.execute_reply": "2023-03-08T09:05:54.142990Z"
    },
    "trusted": true,
    "id": "0FaZHFzRC1OJ",
    "executionInfo": {
     "status": "ok",
     "timestamp": 1679570959123,
     "user_tz": -60,
     "elapsed": 345,
     "user": {
      "displayName": "Alessio Drigatti",
      "userId": "07215250769544148907"
     }
    }
   },
   "execution_count": 15,
   "outputs": []
  },
  {
   "cell_type": "code",
   "execution_count": 16,
   "outputs": [],
   "source": [
    "df_sample = df.sample(frac=0.25, ignore_index=True)\n",
    "df_sample.reset_index(drop=True, inplace=True)\n",
    "df_sample.to_json(\"data_pp_sample.json\")"
   ],
   "metadata": {
    "collapsed": false
   }
  }
 ]
}
